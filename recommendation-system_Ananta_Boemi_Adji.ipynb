{
  "cells": [
    {
      "cell_type": "markdown",
      "metadata": {
        "id": "TWbfzMYaPnl5"
      },
      "source": [
        "# **\\[Video Games System Recommendation] - Ananta Boemi Adji**\n",
        "\n",
        "### **Latar Belakang**\n",
        "\n",
        "Industri video game merupakan salah satu sektor hiburan terbesar dan terus berkembang pesat dari tahun ke tahun. Jumlah game yang tersedia di pasaran sangat banyak, baik dari berbagai genre, platform, maupun rating yang berbeda-beda. Kondisi ini membuat para pemain (gamer) sering kali kebingungan untuk menentukan game mana yang layak untuk dimainkan, terutama yang sesuai dengan preferensi mereka.\n",
        "\n",
        "Permasalahan utama yang ingin diselesaikan adalah **bagaimana membantu pengguna menemukan video game yang sesuai dengan preferensi mereka secara efisien dan personal**. Oleh karena itu, pada proyek ini akan dikembangkan sebuah **sistem rekomendasi video game** berdasarkan data penjualan, rating pengguna, rating kritikus, serta metadata lainnya seperti genre dan platform.\n",
        "\n",
        "Sistem rekomendasi akan dibangun menggunakan dua pendekatan utama, yaitu **Content-Based Filtering** dan **Collaborative Filtering**. Hasil akhir dari sistem ini akan menyajikan rekomendasi Top-N game kepada pengguna berdasarkan kesamaan konten dan pola perilaku pengguna lain.\n",
        "\n",
        "---\n",
        "\n",
        "## **Tujuan Proyek**\n",
        "\n",
        "Tujuan utama dari proyek ini adalah:\n",
        "\n",
        "* Mengembangkan sistem rekomendasi game yang dapat memberikan rekomendasi personal kepada pengguna.\n",
        "* Mengeksplorasi dua pendekatan rekomendasi: Content-Based Filtering dan Collaborative Filtering.\n",
        "* Melatih dan mengevaluasi model untuk menghasilkan rekomendasi Top-N game.\n",
        "* Memberikan insight dari fitur-fitur yang paling mempengaruhi minat pengguna terhadap game tertentu.\n",
        "* Menyediakan laporan analisis dan sistem yang mudah dipahami dan dapat digunakan oleh pengguna akhir.\n",
        "\n",
        "---\n",
        "\n",
        "## **Informasi Dataset**\n",
        "\n",
        "Dataset yang digunakan dalam proyek ini adalah **Video Game Sales with Ratings**, yang tersedia secara publik di platform Kaggle.\n",
        "\n",
        "* **Nama Dataset:** Video Game Sales with Ratings\n",
        "* **Sumber:** Kaggle\n",
        "* **Publisher:** rush4ratio\n",
        "* **Link Dataset:** [https://www.kaggle.com/datasets/rush4ratio/video-game-sales-with-ratings](https://www.kaggle.com/datasets/rush4ratio/video-game-sales-with-ratings)\n",
        "\n",
        "Dataset ini menggabungkan data penjualan video game dari VGChartz dan data rating dari Metacritic, mencakup berbagai platform dan genre.\n",
        "\n",
        "---\n",
        "\n",
        "## **Alur Pengerjaan Project**\n",
        "\n",
        "Langkah-langkah pengerjaan proyek ini meliputi:\n",
        "\n",
        "1. **Exploratory Data Analysis (EDA):**\n",
        "\n",
        "   * Mengeksplorasi distribusi penjualan, rating, genre, dan platform.\n",
        "   * Visualisasi korelasi antar fitur dan deteksi outlier/missing values.\n",
        "   * Menentukan fitur penting yang dapat digunakan untuk rekomendasi.\n",
        "\n",
        "2. **Preprocessing:**\n",
        "\n",
        "   * Penanganan nilai hilang dan duplikat.\n",
        "   * Encoding fitur kategorikal dan normalisasi numerik.\n",
        "   * Pembuatan matriks kemiripan untuk content-based filtering dan user-item matrix untuk collaborative filtering.\n",
        "\n",
        "3. **Modeling:**\n",
        "\n",
        "   * Membangun sistem rekomendasi dengan **Content-Based Filtering** (berdasarkan kemiripan genre, platform, rating).\n",
        "   * Membangun sistem rekomendasi dengan **Collaborative Filtering** menggunakan pendekatan matrix factorization (misalnya SVD).\n",
        "   * Menyajikan hasil **Top-N Recommendation** untuk setiap pendekatan.\n",
        "\n",
        "4. **Interpretasi dan Insight:**\n",
        "\n",
        "   * Menganalisis hasil rekomendasi dan kecocokan dengan data historis.\n",
        "   * Membandingkan kelebihan dan kekurangan dari kedua pendekatan.\n",
        "\n",
        "---\n",
        "\n",
        "## **Business Understanding**\n",
        "Sistem rekomendasi memainkan peran kunci dalam platform distribusi konten digital, termasuk industri game. Rekomendasi yang akurat mampu meningkatkan kepuasan pengguna, meningkatkan waktu keterlibatan, dan mendorong transaksi pembelian.\n",
        "\n",
        "* **Pengguna**: Mendapatkan rekomendasi game yang sesuai minat mereka.\n",
        "* **Platform distribusi game**: Meningkatkan retensi pengguna dan pendapatan.\n",
        "* **Developer & publisher game**: Mendapatkan eksposur lebih besar terhadap game mereka.\n",
        "\n",
        "### Problem Statements:\n",
        "* Bagaimana memberikan rekomendasi game yang relevan berdasarkan metadata konten game?\n",
        "* Bagaimana memberikan rekomendasi game berdasarkan pola interaksi pengguna dengan game?\n",
        "* Sejauh mana performa masing-masing pendekatan (CBF dan CF) dalam menghasilkan rekomendasi yang relevan?\n",
        "\n",
        "### Goals:\n",
        "* Membangun dua sistem rekomendasi: Content-Based Filtering dan Collaborative Filtering.\n",
        "* Mengevaluasi performa model dengan metrik Precision\\@k dan Recall\\@k.\n",
        "* Menyediakan sistem rekomendasi interaktif berdasarkan input pengguna.\n",
        "\n",
        "---\n",
        "\n",
        "## **Penilaian yang Diharapkan**\n",
        "\n",
        "Proyek ini diharapkan dapat menghasilkan beberapa poin penting:\n",
        "\n",
        "* Menyediakan sistem rekomendasi yang dapat memberikan **Top-N game terbaik** untuk pengguna berdasarkan preferensi historis dan konten game.\n",
        "* Mampu mengevaluasi performa model dengan metrik seperti **Precision\\@K**, **Recall\\@K**, atau **RMSE** (untuk collaborative filtering).\n",
        "* Menunjukkan pemahaman mendalam terhadap proses data preparation dan pemilihan fitur.\n",
        "* Memberikan laporan analitis dan sistematis yang menjelaskan alur pembuatan sistem rekomendasi.\n",
        "* Menyediakan dua pendekatan model dan evaluasi komparatif terhadap hasilnya."
      ]
    },
    {
      "cell_type": "markdown",
      "metadata": {
        "id": "iwDWzaahSM46"
      },
      "source": [
        "# **1. Import Library**\n",
        "\n",
        "Pada bagian ini saya akan berfokus import semua library yang akan dibutuhkan pada project ini.\n",
        "\n",
        "| Kategori Library            | Library / Fungsi                              | Kegunaan                                                                  |\n",
        "| ------------------- | --------------------------------------------- | ------------------------------------------------------------------------- |\n",
        "| Data Manipulation   | `pandas`, `numpy`                             | Membaca, membersihkan, dan memproses data tabular                         |\n",
        "| Visualisasi         | `matplotlib.pyplot`, `seaborn`                | Visualisasi distribusi data, korelasi, dan insight EDA                    |\n",
        "| Preprocessing       | `MinMaxScaler`, `cosine_similarity`           | Normalisasi data numerik dan perhitungan kemiripan untuk content-based    |\n",
        "| NLP (Content-Based) | `TfidfVectorizer`                             | Mengubah data teks menjadi vektor numerik (misalnya genre game)           |\n",
        "| Collaborative       | `surprise`, `SVD`, `Reader`, `cross_validate` | Algoritma rekomendasi berbasis user-rating dengan collaborative filtering |\n",
        "| Evaluation          | `mean_squared_error`, `sqrt`                  | Menghitung metrik RMSE untuk evaluasi rekomendasi collaborative           |\n",
        "| Warnings Handling   | `warnings`                                    | Menyembunyikan warning yang tidak penting                                 |\n",
        "\n",
        "---\n",
        "\n",
        "Pada project ini juga saya akan menggunakan lightfm karena compatible dengan google colab."
      ]
    },
    {
      "cell_type": "markdown",
      "metadata": {
        "id": "Jqxhsg-WBqpB"
      },
      "source": []
    },
    {
      "cell_type": "code",
      "execution_count": 183,
      "metadata": {
        "id": "69kUCQszZiL-"
      },
      "outputs": [],
      "source": [
        "!pip install lightfm --quiet"
      ]
    },
    {
      "cell_type": "code",
      "execution_count": 184,
      "metadata": {
        "id": "EfYfbFQZa8fq"
      },
      "outputs": [],
      "source": [
        "import pandas as pd\n",
        "import numpy as np\n",
        "import matplotlib.pyplot as plt\n",
        "import seaborn as sns\n",
        "import gdown\n",
        "import ipywidgets as widgets\n",
        "\n",
        "from IPython.display import display, clear_output\n",
        "from sklearn.preprocessing import MinMaxScaler\n",
        "from sklearn.metrics.pairwise import cosine_similarity\n",
        "from sklearn.feature_extraction.text import TfidfVectorizer\n",
        "from sklearn.model_selection import train_test_split\n",
        "\n",
        "from lightfm import LightFM\n",
        "from lightfm.data import Dataset as LFDataset\n",
        "from lightfm.evaluation import precision_at_k, recall_at_k\n",
        "\n",
        "import warnings\n",
        "warnings.filterwarnings('ignore')"
      ]
    },
    {
      "cell_type": "markdown",
      "metadata": {
        "id": "JEjkrYX-SPif"
      },
      "source": [
        "# **2. Load Dataset**"
      ]
    },
    {
      "cell_type": "markdown",
      "metadata": {
        "id": "QDa1aYFwYgEN"
      },
      "source": [
        "Dataset dimuat dari Google Drive menggunakan link share ID, dataset saya download langsung dari kaggle."
      ]
    },
    {
      "cell_type": "code",
      "execution_count": 185,
      "metadata": {
        "id": "0TSRiU74UF3F"
      },
      "outputs": [],
      "source": [
        "url = 'https://drive.google.com/uc?id=1jAOTErV-OG6mwBPzAywgpHdlsiWRcUjl'\n",
        "df = pd.read_csv(url)"
      ]
    },
    {
      "cell_type": "markdown",
      "metadata": {
        "id": "4ZIvlPGuSPgP"
      },
      "source": [
        "# **3. Exploratory Data Analysis (EDA)**"
      ]
    },
    {
      "cell_type": "markdown",
      "metadata": {
        "id": "Yk5FBDc9cLgy"
      },
      "source": [
        "### **Melihat ringkasan dataset**\n",
        "\n",
        "Pertama saya akan melihat ringkasan dari dataset seperti:\n",
        "- statistik untuk kolom numerik: rata-rata, standar deviasi, min, max, dll.\n",
        "- Serta melihat struktur umum dataset: jumlah baris & kolom, tipe data tiap kolom, dan nilai non-null"
      ]
    },
    {
      "cell_type": "code",
      "execution_count": 186,
      "metadata": {
        "colab": {
          "base_uri": "https://localhost:8080/",
          "height": 699
        },
        "id": "vaBfodwwcL1r",
        "outputId": "bf9712ba-2282-4e25-de18-0562d424f424"
      },
      "outputs": [
        {
          "name": "stdout",
          "output_type": "stream",
          "text": [
            "<class 'pandas.core.frame.DataFrame'>\n",
            "RangeIndex: 16719 entries, 0 to 16718\n",
            "Data columns (total 16 columns):\n",
            " #   Column           Non-Null Count  Dtype  \n",
            "---  ------           --------------  -----  \n",
            " 0   Name             16717 non-null  object \n",
            " 1   Platform         16719 non-null  object \n",
            " 2   Year_of_Release  16450 non-null  float64\n",
            " 3   Genre            16717 non-null  object \n",
            " 4   Publisher        16665 non-null  object \n",
            " 5   NA_Sales         16719 non-null  float64\n",
            " 6   EU_Sales         16719 non-null  float64\n",
            " 7   JP_Sales         16719 non-null  float64\n",
            " 8   Other_Sales      16719 non-null  float64\n",
            " 9   Global_Sales     16719 non-null  float64\n",
            " 10  Critic_Score     8137 non-null   float64\n",
            " 11  Critic_Count     8137 non-null   float64\n",
            " 12  User_Score       10015 non-null  object \n",
            " 13  User_Count       7590 non-null   float64\n",
            " 14  Developer        10096 non-null  object \n",
            " 15  Rating           9950 non-null   object \n",
            "dtypes: float64(9), object(7)\n",
            "memory usage: 2.0+ MB\n"
          ]
        },
        {
          "data": {
            "application/vnd.google.colaboratory.intrinsic+json": {
              "summary": "{\n  \"name\": \"df\",\n  \"rows\": 8,\n  \"fields\": [\n    {\n      \"column\": \"Year_of_Release\",\n      \"properties\": {\n        \"dtype\": \"number\",\n        \"std\": 5254.981785426037,\n        \"min\": 5.87899476834851,\n        \"max\": 16450.0,\n        \"num_unique_values\": 8,\n        \"samples\": [\n          2006.4873556231003,\n          2007.0,\n          16450.0\n        ],\n        \"semantic_type\": \"\",\n        \"description\": \"\"\n      }\n    },\n    {\n      \"column\": \"NA_Sales\",\n      \"properties\": {\n        \"dtype\": \"number\",\n        \"std\": 5908.917121990064,\n        \"min\": 0.0,\n        \"max\": 16719.0,\n        \"num_unique_values\": 7,\n        \"samples\": [\n          16719.0,\n          0.26333034272384714,\n          0.24\n        ],\n        \"semantic_type\": \"\",\n        \"description\": \"\"\n      }\n    },\n    {\n      \"column\": \"EU_Sales\",\n      \"properties\": {\n        \"dtype\": \"number\",\n        \"std\": 5909.565739474532,\n        \"min\": 0.0,\n        \"max\": 16719.0,\n        \"num_unique_values\": 7,\n        \"samples\": [\n          16719.0,\n          0.14502482205873557,\n          0.11\n        ],\n        \"semantic_type\": \"\",\n        \"description\": \"\"\n      }\n    },\n    {\n      \"column\": \"JP_Sales\",\n      \"properties\": {\n        \"dtype\": \"number\",\n        \"std\": 5910.522479723717,\n        \"min\": 0.0,\n        \"max\": 16719.0,\n        \"num_unique_values\": 6,\n        \"samples\": [\n          16719.0,\n          0.07760212931395419,\n          10.22\n        ],\n        \"semantic_type\": \"\",\n        \"description\": \"\"\n      }\n    },\n    {\n      \"column\": \"Other_Sales\",\n      \"properties\": {\n        \"dtype\": \"number\",\n        \"std\": 5910.512578154453,\n        \"min\": 0.0,\n        \"max\": 16719.0,\n        \"num_unique_values\": 7,\n        \"samples\": [\n          16719.0,\n          0.04733177821640051,\n          0.03\n        ],\n        \"semantic_type\": \"\",\n        \"description\": \"\"\n      }\n    },\n    {\n      \"column\": \"Global_Sales\",\n      \"properties\": {\n        \"dtype\": \"number\",\n        \"std\": 5906.819576847614,\n        \"min\": 0.01,\n        \"max\": 16719.0,\n        \"num_unique_values\": 8,\n        \"samples\": [\n          0.5335426759973684,\n          0.17,\n          16719.0\n        ],\n        \"semantic_type\": \"\",\n        \"description\": \"\"\n      }\n    },\n    {\n      \"column\": \"Critic_Score\",\n      \"properties\": {\n        \"dtype\": \"number\",\n        \"std\": 2856.6211493303676,\n        \"min\": 13.0,\n        \"max\": 8137.0,\n        \"num_unique_values\": 8,\n        \"samples\": [\n          68.96767850559173,\n          71.0,\n          8137.0\n        ],\n        \"semantic_type\": \"\",\n        \"description\": \"\"\n      }\n    },\n    {\n      \"column\": \"Critic_Count\",\n      \"properties\": {\n        \"dtype\": \"number\",\n        \"std\": 2865.432728872218,\n        \"min\": 3.0,\n        \"max\": 8137.0,\n        \"num_unique_values\": 8,\n        \"samples\": [\n          26.360820941378886,\n          21.0,\n          8137.0\n        ],\n        \"semantic_type\": \"\",\n        \"description\": \"\"\n      }\n    },\n    {\n      \"column\": \"User_Count\",\n      \"properties\": {\n        \"dtype\": \"number\",\n        \"std\": 4244.48487033741,\n        \"min\": 4.0,\n        \"max\": 10665.0,\n        \"num_unique_values\": 8,\n        \"samples\": [\n          162.22990777338603,\n          24.0,\n          7590.0\n        ],\n        \"semantic_type\": \"\",\n        \"description\": \"\"\n      }\n    }\n  ]\n}",
              "type": "dataframe"
            },
            "text/html": [
              "\n",
              "  <div id=\"df-cebe32bc-1fe3-4401-8192-e6e9a3e75d8b\" class=\"colab-df-container\">\n",
              "    <div>\n",
              "<style scoped>\n",
              "    .dataframe tbody tr th:only-of-type {\n",
              "        vertical-align: middle;\n",
              "    }\n",
              "\n",
              "    .dataframe tbody tr th {\n",
              "        vertical-align: top;\n",
              "    }\n",
              "\n",
              "    .dataframe thead th {\n",
              "        text-align: right;\n",
              "    }\n",
              "</style>\n",
              "<table border=\"1\" class=\"dataframe\">\n",
              "  <thead>\n",
              "    <tr style=\"text-align: right;\">\n",
              "      <th></th>\n",
              "      <th>Year_of_Release</th>\n",
              "      <th>NA_Sales</th>\n",
              "      <th>EU_Sales</th>\n",
              "      <th>JP_Sales</th>\n",
              "      <th>Other_Sales</th>\n",
              "      <th>Global_Sales</th>\n",
              "      <th>Critic_Score</th>\n",
              "      <th>Critic_Count</th>\n",
              "      <th>User_Count</th>\n",
              "    </tr>\n",
              "  </thead>\n",
              "  <tbody>\n",
              "    <tr>\n",
              "      <th>count</th>\n",
              "      <td>16450.000000</td>\n",
              "      <td>16719.000000</td>\n",
              "      <td>16719.000000</td>\n",
              "      <td>16719.000000</td>\n",
              "      <td>16719.000000</td>\n",
              "      <td>16719.000000</td>\n",
              "      <td>8137.000000</td>\n",
              "      <td>8137.000000</td>\n",
              "      <td>7590.000000</td>\n",
              "    </tr>\n",
              "    <tr>\n",
              "      <th>mean</th>\n",
              "      <td>2006.487356</td>\n",
              "      <td>0.263330</td>\n",
              "      <td>0.145025</td>\n",
              "      <td>0.077602</td>\n",
              "      <td>0.047332</td>\n",
              "      <td>0.533543</td>\n",
              "      <td>68.967679</td>\n",
              "      <td>26.360821</td>\n",
              "      <td>162.229908</td>\n",
              "    </tr>\n",
              "    <tr>\n",
              "      <th>std</th>\n",
              "      <td>5.878995</td>\n",
              "      <td>0.813514</td>\n",
              "      <td>0.503283</td>\n",
              "      <td>0.308818</td>\n",
              "      <td>0.186710</td>\n",
              "      <td>1.547935</td>\n",
              "      <td>13.938165</td>\n",
              "      <td>18.980495</td>\n",
              "      <td>561.282326</td>\n",
              "    </tr>\n",
              "    <tr>\n",
              "      <th>min</th>\n",
              "      <td>1980.000000</td>\n",
              "      <td>0.000000</td>\n",
              "      <td>0.000000</td>\n",
              "      <td>0.000000</td>\n",
              "      <td>0.000000</td>\n",
              "      <td>0.010000</td>\n",
              "      <td>13.000000</td>\n",
              "      <td>3.000000</td>\n",
              "      <td>4.000000</td>\n",
              "    </tr>\n",
              "    <tr>\n",
              "      <th>25%</th>\n",
              "      <td>2003.000000</td>\n",
              "      <td>0.000000</td>\n",
              "      <td>0.000000</td>\n",
              "      <td>0.000000</td>\n",
              "      <td>0.000000</td>\n",
              "      <td>0.060000</td>\n",
              "      <td>60.000000</td>\n",
              "      <td>12.000000</td>\n",
              "      <td>10.000000</td>\n",
              "    </tr>\n",
              "    <tr>\n",
              "      <th>50%</th>\n",
              "      <td>2007.000000</td>\n",
              "      <td>0.080000</td>\n",
              "      <td>0.020000</td>\n",
              "      <td>0.000000</td>\n",
              "      <td>0.010000</td>\n",
              "      <td>0.170000</td>\n",
              "      <td>71.000000</td>\n",
              "      <td>21.000000</td>\n",
              "      <td>24.000000</td>\n",
              "    </tr>\n",
              "    <tr>\n",
              "      <th>75%</th>\n",
              "      <td>2010.000000</td>\n",
              "      <td>0.240000</td>\n",
              "      <td>0.110000</td>\n",
              "      <td>0.040000</td>\n",
              "      <td>0.030000</td>\n",
              "      <td>0.470000</td>\n",
              "      <td>79.000000</td>\n",
              "      <td>36.000000</td>\n",
              "      <td>81.000000</td>\n",
              "    </tr>\n",
              "    <tr>\n",
              "      <th>max</th>\n",
              "      <td>2020.000000</td>\n",
              "      <td>41.360000</td>\n",
              "      <td>28.960000</td>\n",
              "      <td>10.220000</td>\n",
              "      <td>10.570000</td>\n",
              "      <td>82.530000</td>\n",
              "      <td>98.000000</td>\n",
              "      <td>113.000000</td>\n",
              "      <td>10665.000000</td>\n",
              "    </tr>\n",
              "  </tbody>\n",
              "</table>\n",
              "</div>\n",
              "    <div class=\"colab-df-buttons\">\n",
              "\n",
              "  <div class=\"colab-df-container\">\n",
              "    <button class=\"colab-df-convert\" onclick=\"convertToInteractive('df-cebe32bc-1fe3-4401-8192-e6e9a3e75d8b')\"\n",
              "            title=\"Convert this dataframe to an interactive table.\"\n",
              "            style=\"display:none;\">\n",
              "\n",
              "  <svg xmlns=\"http://www.w3.org/2000/svg\" height=\"24px\" viewBox=\"0 -960 960 960\">\n",
              "    <path d=\"M120-120v-720h720v720H120Zm60-500h600v-160H180v160Zm220 220h160v-160H400v160Zm0 220h160v-160H400v160ZM180-400h160v-160H180v160Zm440 0h160v-160H620v160ZM180-180h160v-160H180v160Zm440 0h160v-160H620v160Z\"/>\n",
              "  </svg>\n",
              "    </button>\n",
              "\n",
              "  <style>\n",
              "    .colab-df-container {\n",
              "      display:flex;\n",
              "      gap: 12px;\n",
              "    }\n",
              "\n",
              "    .colab-df-convert {\n",
              "      background-color: #E8F0FE;\n",
              "      border: none;\n",
              "      border-radius: 50%;\n",
              "      cursor: pointer;\n",
              "      display: none;\n",
              "      fill: #1967D2;\n",
              "      height: 32px;\n",
              "      padding: 0 0 0 0;\n",
              "      width: 32px;\n",
              "    }\n",
              "\n",
              "    .colab-df-convert:hover {\n",
              "      background-color: #E2EBFA;\n",
              "      box-shadow: 0px 1px 2px rgba(60, 64, 67, 0.3), 0px 1px 3px 1px rgba(60, 64, 67, 0.15);\n",
              "      fill: #174EA6;\n",
              "    }\n",
              "\n",
              "    .colab-df-buttons div {\n",
              "      margin-bottom: 4px;\n",
              "    }\n",
              "\n",
              "    [theme=dark] .colab-df-convert {\n",
              "      background-color: #3B4455;\n",
              "      fill: #D2E3FC;\n",
              "    }\n",
              "\n",
              "    [theme=dark] .colab-df-convert:hover {\n",
              "      background-color: #434B5C;\n",
              "      box-shadow: 0px 1px 3px 1px rgba(0, 0, 0, 0.15);\n",
              "      filter: drop-shadow(0px 1px 2px rgba(0, 0, 0, 0.3));\n",
              "      fill: #FFFFFF;\n",
              "    }\n",
              "  </style>\n",
              "\n",
              "    <script>\n",
              "      const buttonEl =\n",
              "        document.querySelector('#df-cebe32bc-1fe3-4401-8192-e6e9a3e75d8b button.colab-df-convert');\n",
              "      buttonEl.style.display =\n",
              "        google.colab.kernel.accessAllowed ? 'block' : 'none';\n",
              "\n",
              "      async function convertToInteractive(key) {\n",
              "        const element = document.querySelector('#df-cebe32bc-1fe3-4401-8192-e6e9a3e75d8b');\n",
              "        const dataTable =\n",
              "          await google.colab.kernel.invokeFunction('convertToInteractive',\n",
              "                                                    [key], {});\n",
              "        if (!dataTable) return;\n",
              "\n",
              "        const docLinkHtml = 'Like what you see? Visit the ' +\n",
              "          '<a target=\"_blank\" href=https://colab.research.google.com/notebooks/data_table.ipynb>data table notebook</a>'\n",
              "          + ' to learn more about interactive tables.';\n",
              "        element.innerHTML = '';\n",
              "        dataTable['output_type'] = 'display_data';\n",
              "        await google.colab.output.renderOutput(dataTable, element);\n",
              "        const docLink = document.createElement('div');\n",
              "        docLink.innerHTML = docLinkHtml;\n",
              "        element.appendChild(docLink);\n",
              "      }\n",
              "    </script>\n",
              "  </div>\n",
              "\n",
              "\n",
              "    <div id=\"df-35f79d9b-c138-4f57-a34a-7e39f00992ed\">\n",
              "      <button class=\"colab-df-quickchart\" onclick=\"quickchart('df-35f79d9b-c138-4f57-a34a-7e39f00992ed')\"\n",
              "                title=\"Suggest charts\"\n",
              "                style=\"display:none;\">\n",
              "\n",
              "<svg xmlns=\"http://www.w3.org/2000/svg\" height=\"24px\"viewBox=\"0 0 24 24\"\n",
              "     width=\"24px\">\n",
              "    <g>\n",
              "        <path d=\"M19 3H5c-1.1 0-2 .9-2 2v14c0 1.1.9 2 2 2h14c1.1 0 2-.9 2-2V5c0-1.1-.9-2-2-2zM9 17H7v-7h2v7zm4 0h-2V7h2v10zm4 0h-2v-4h2v4z\"/>\n",
              "    </g>\n",
              "</svg>\n",
              "      </button>\n",
              "\n",
              "<style>\n",
              "  .colab-df-quickchart {\n",
              "      --bg-color: #E8F0FE;\n",
              "      --fill-color: #1967D2;\n",
              "      --hover-bg-color: #E2EBFA;\n",
              "      --hover-fill-color: #174EA6;\n",
              "      --disabled-fill-color: #AAA;\n",
              "      --disabled-bg-color: #DDD;\n",
              "  }\n",
              "\n",
              "  [theme=dark] .colab-df-quickchart {\n",
              "      --bg-color: #3B4455;\n",
              "      --fill-color: #D2E3FC;\n",
              "      --hover-bg-color: #434B5C;\n",
              "      --hover-fill-color: #FFFFFF;\n",
              "      --disabled-bg-color: #3B4455;\n",
              "      --disabled-fill-color: #666;\n",
              "  }\n",
              "\n",
              "  .colab-df-quickchart {\n",
              "    background-color: var(--bg-color);\n",
              "    border: none;\n",
              "    border-radius: 50%;\n",
              "    cursor: pointer;\n",
              "    display: none;\n",
              "    fill: var(--fill-color);\n",
              "    height: 32px;\n",
              "    padding: 0;\n",
              "    width: 32px;\n",
              "  }\n",
              "\n",
              "  .colab-df-quickchart:hover {\n",
              "    background-color: var(--hover-bg-color);\n",
              "    box-shadow: 0 1px 2px rgba(60, 64, 67, 0.3), 0 1px 3px 1px rgba(60, 64, 67, 0.15);\n",
              "    fill: var(--button-hover-fill-color);\n",
              "  }\n",
              "\n",
              "  .colab-df-quickchart-complete:disabled,\n",
              "  .colab-df-quickchart-complete:disabled:hover {\n",
              "    background-color: var(--disabled-bg-color);\n",
              "    fill: var(--disabled-fill-color);\n",
              "    box-shadow: none;\n",
              "  }\n",
              "\n",
              "  .colab-df-spinner {\n",
              "    border: 2px solid var(--fill-color);\n",
              "    border-color: transparent;\n",
              "    border-bottom-color: var(--fill-color);\n",
              "    animation:\n",
              "      spin 1s steps(1) infinite;\n",
              "  }\n",
              "\n",
              "  @keyframes spin {\n",
              "    0% {\n",
              "      border-color: transparent;\n",
              "      border-bottom-color: var(--fill-color);\n",
              "      border-left-color: var(--fill-color);\n",
              "    }\n",
              "    20% {\n",
              "      border-color: transparent;\n",
              "      border-left-color: var(--fill-color);\n",
              "      border-top-color: var(--fill-color);\n",
              "    }\n",
              "    30% {\n",
              "      border-color: transparent;\n",
              "      border-left-color: var(--fill-color);\n",
              "      border-top-color: var(--fill-color);\n",
              "      border-right-color: var(--fill-color);\n",
              "    }\n",
              "    40% {\n",
              "      border-color: transparent;\n",
              "      border-right-color: var(--fill-color);\n",
              "      border-top-color: var(--fill-color);\n",
              "    }\n",
              "    60% {\n",
              "      border-color: transparent;\n",
              "      border-right-color: var(--fill-color);\n",
              "    }\n",
              "    80% {\n",
              "      border-color: transparent;\n",
              "      border-right-color: var(--fill-color);\n",
              "      border-bottom-color: var(--fill-color);\n",
              "    }\n",
              "    90% {\n",
              "      border-color: transparent;\n",
              "      border-bottom-color: var(--fill-color);\n",
              "    }\n",
              "  }\n",
              "</style>\n",
              "\n",
              "      <script>\n",
              "        async function quickchart(key) {\n",
              "          const quickchartButtonEl =\n",
              "            document.querySelector('#' + key + ' button');\n",
              "          quickchartButtonEl.disabled = true;  // To prevent multiple clicks.\n",
              "          quickchartButtonEl.classList.add('colab-df-spinner');\n",
              "          try {\n",
              "            const charts = await google.colab.kernel.invokeFunction(\n",
              "                'suggestCharts', [key], {});\n",
              "          } catch (error) {\n",
              "            console.error('Error during call to suggestCharts:', error);\n",
              "          }\n",
              "          quickchartButtonEl.classList.remove('colab-df-spinner');\n",
              "          quickchartButtonEl.classList.add('colab-df-quickchart-complete');\n",
              "        }\n",
              "        (() => {\n",
              "          let quickchartButtonEl =\n",
              "            document.querySelector('#df-35f79d9b-c138-4f57-a34a-7e39f00992ed button');\n",
              "          quickchartButtonEl.style.display =\n",
              "            google.colab.kernel.accessAllowed ? 'block' : 'none';\n",
              "        })();\n",
              "      </script>\n",
              "    </div>\n",
              "\n",
              "    </div>\n",
              "  </div>\n"
            ],
            "text/plain": [
              "       Year_of_Release      NA_Sales      EU_Sales      JP_Sales  \\\n",
              "count     16450.000000  16719.000000  16719.000000  16719.000000   \n",
              "mean       2006.487356      0.263330      0.145025      0.077602   \n",
              "std           5.878995      0.813514      0.503283      0.308818   \n",
              "min        1980.000000      0.000000      0.000000      0.000000   \n",
              "25%        2003.000000      0.000000      0.000000      0.000000   \n",
              "50%        2007.000000      0.080000      0.020000      0.000000   \n",
              "75%        2010.000000      0.240000      0.110000      0.040000   \n",
              "max        2020.000000     41.360000     28.960000     10.220000   \n",
              "\n",
              "        Other_Sales  Global_Sales  Critic_Score  Critic_Count    User_Count  \n",
              "count  16719.000000  16719.000000   8137.000000   8137.000000   7590.000000  \n",
              "mean       0.047332      0.533543     68.967679     26.360821    162.229908  \n",
              "std        0.186710      1.547935     13.938165     18.980495    561.282326  \n",
              "min        0.000000      0.010000     13.000000      3.000000      4.000000  \n",
              "25%        0.000000      0.060000     60.000000     12.000000     10.000000  \n",
              "50%        0.010000      0.170000     71.000000     21.000000     24.000000  \n",
              "75%        0.030000      0.470000     79.000000     36.000000     81.000000  \n",
              "max       10.570000     82.530000     98.000000    113.000000  10665.000000  "
            ]
          },
          "execution_count": 186,
          "metadata": {},
          "output_type": "execute_result"
        }
      ],
      "source": [
        "df.head()\n",
        "\n",
        "df.info()\n",
        "df.describe()"
      ]
    },
    {
      "cell_type": "markdown",
      "metadata": {
        "id": "WBNTXC8Ndie7"
      },
      "source": [
        "**Insight**:\n",
        "\n",
        "1. **Jumlah Data & Missing Value**\n",
        "\n",
        "   * Dataset memiliki **16.719 entri**.\n",
        "   * Ada beberapa kolom dengan **missing value cukup besar**, terutama:\n",
        "\n",
        "     * `Critic_Score` (\\~51% missing)\n",
        "     * `Critic_Count` (\\~51% missing)\n",
        "     * `User_Score` (\\~40% missing, dan bertipe object)\n",
        "     * `User_Count` (\\~54% missing)\n",
        "     * `Developer` (\\~40% missing)\n",
        "     * `Rating` (\\~41% missing)\n",
        "       → data terkait ulasan **tidak selalu tersedia** untuk semua game.\n",
        "\n",
        "3. **Distribusi Penjualan**\n",
        "\n",
        "   * Sebagian besar game memiliki **penjualan yang sangat kecil**\n",
        "   * Artinya, hanya sedikit game yang menjadi **top seller**\n",
        "\n",
        "4. **Global Sales**\n",
        "\n",
        "   * Median **Global\\_Sales** adalah **0.17 juta unit**\n",
        "\n",
        "5. **Review Metrics**\n",
        "\n",
        "   * Rata-rata **Critic\\_Score** adalah **68.97** → sebagian besar game **di-review cukup baik**.\n",
        "   * Namun, data `User_Score` harus diolah karena masih berupa object.\n",
        "\n",
        "6. **Lainnya**\n",
        "  * Dataset ini memiliki **distribusi penjualan yang sangat tidak merata** → mayoritas game tidak terlalu laku, hanya sedikit yang blockbuster.\n",
        "  * Banyak **missing value** di data review → perlu dilakukan pengaturan pada saat preprocessing.\n",
        "  * Penjualan game dan review score berpotensi punya **hubungan menarik untuk dianalisis** (misal: apakah review score berkorelasi dengan sales?).\n",
        "\n",
        "---\n",
        "\n",
        "  **Struktur Dataset**\n",
        "\n",
        "Struktur dan informasi yang ada pada dataset:\n",
        "\n",
        "| Nama Kolom        | Deskripsi                                          | Tipe Data | Rentang / Contoh             |\n",
        "| ----------------- | -------------------------------------------------- | --------- | ---------------------------- |\n",
        "| `Name`            | Nama video game                                    | String    | \"Super Mario Bros.\"          |\n",
        "| `Platform`        | Platform rilis game (PS2, X360, PC, dll.)          | String    | \"PS4\", \"X360\", \"PC\"          |\n",
        "| `Year_of_Release` | Tahun rilis game                                   | Integer   | 1980 - 2020 (banyak missing) |\n",
        "| `Genre`           | Genre game                                         | String    | \"Action\", \"Shooter\"          |\n",
        "| `Publisher`       | Perusahaan penerbit game                           | String    | \"Nintendo\", \"EA Sports\"      |\n",
        "| `NA_Sales`        | Penjualan di Amerika Utara (dalam juta unit)       | Float     | 0.00 - 41.49                 |\n",
        "| `EU_Sales`        | Penjualan di Eropa (dalam juta unit)               | Float     | 0.00 - 29.02                 |\n",
        "| `JP_Sales`        | Penjualan di Jepang (dalam juta unit)              | Float     | 0.00 - 10.22                 |\n",
        "| `Other_Sales`     | Penjualan di wilayah lain                          | Float     | 0.00 - 10.57                 |\n",
        "| `Global_Sales`    | Total penjualan global                             | Float     | 0.01 - 82.74                 |\n",
        "| `Critic_Score`    | Skor dari kritikus (0 - 100)                       | Float     | 13.0 - 98.0                  |\n",
        "| `Critic_Count`    | Jumlah kritikus yang menilai game                  | Integer   | 3 - 51                       |\n",
        "| `User_Score`      | Skor dari pengguna Metacritic (dalam skala 0 - 10) | Float     | 0.0 - 9.8                    |\n",
        "| `User_Count`      | Jumlah pengguna yang memberikan skor               | Integer   | 1 - 10665                    |\n",
        "| `Developer`       | Pengembang game                                    | String    | \"Ubisoft\", \"EA Canada\"       |\n",
        "| `Rating`          | Rating ESRB game (misalnya E, T, M)                | String    | \"E\", \"T\", \"M\"                |"
      ]
    },
    {
      "cell_type": "markdown",
      "metadata": {
        "id": "IZgvdA18dW4t"
      },
      "source": [
        "### **Mengecek missing values dan duplikasi dari dataset**"
      ]
    },
    {
      "cell_type": "code",
      "execution_count": 187,
      "metadata": {
        "colab": {
          "base_uri": "https://localhost:8080/"
        },
        "id": "a3wJ7mZUdUTK",
        "outputId": "b7479062-c075-43cb-b9c7-630727c699c2"
      },
      "outputs": [
        {
          "data": {
            "text/plain": [
              "np.int64(0)"
            ]
          },
          "execution_count": 187,
          "metadata": {},
          "output_type": "execute_result"
        }
      ],
      "source": [
        "df.isnull().sum()\n",
        "df.duplicated().sum()"
      ]
    },
    {
      "cell_type": "markdown",
      "metadata": {
        "id": "Lq8-kKqCCBBR"
      },
      "source": [
        "**Insight**:\n",
        "\n",
        "Sudah aman tidak ada indikasi adanya data missing dan duplikat"
      ]
    },
    {
      "cell_type": "markdown",
      "metadata": {
        "id": "XmI4xuwceyl2"
      },
      "source": [
        "### **Visualisasi Distribusi Data Numerik**"
      ]
    },
    {
      "cell_type": "code",
      "execution_count": 188,
      "metadata": {
        "colab": {
          "base_uri": "https://localhost:8080/",
          "height": 507
        },
        "id": "B-HxXx69ew1h",
        "outputId": "c7fca377-8327-4317-9e80-2d69d2d77e8b"
      },
      "outputs": [
        {
          "data": {
            "image/png": "[encoded data removed]",
            "text/plain": [
              "<Figure size 1500x500 with 3 Axes>"
            ]
          },
          "metadata": {},
          "output_type": "display_data"
        }
      ],
      "source": [
        "plt.figure(figsize=(15, 5))\n",
        "\n",
        "plt.subplot(1, 3, 1)\n",
        "sns.histplot(df['User_Score'].dropna(), kde=True, bins=20)\n",
        "plt.title('Distribusi User Score')\n",
        "\n",
        "plt.subplot(1, 3, 2)\n",
        "sns.histplot(df['Critic_Score'].dropna(), kde=True, bins=20)\n",
        "plt.title('Distribusi Critic Score')\n",
        "\n",
        "plt.subplot(1, 3, 3)\n",
        "sns.histplot(df['Global_Sales'].dropna(), kde=True, bins=20)\n",
        "plt.title('Distribusi Global Sales')\n",
        "\n",
        "plt.tight_layout()\n",
        "plt.show()"
      ]
    },
    {
      "cell_type": "markdown",
      "metadata": {
        "id": "Xdjm5wQZfaf3"
      },
      "source": [
        "**Insight**:\n",
        "\n",
        "Berikut **deskripsi singkat** untuk setiap bagian:\n",
        "\n",
        "---\n",
        "\n",
        "Distribusi **User Score**\n",
        "\n",
        "* **Banyak noise/data kotor** → terlihat ada nilai `tbd` atau label non-numerik.\n",
        "* Distribusi belum dapat dianalisis dengan baik sebelum dilakukan pembersihan.\n",
        "* Indikasi bahwa data User Score masih perlu preprocessing.\n",
        "\n",
        "---\n",
        "\n",
        "2️Distribusi **Critic Score**\n",
        "\n",
        "* Distribusi mendekati **normal** dengan sedikit skew ke kiri.\n",
        "* Mayoritas game mendapatkan skor **60–85**.\n",
        "* Jarang ada game dengan skor sangat rendah (<40) atau sangat tinggi (>90).\n",
        "* Menunjukkan bahwa **kritikus cenderung memberikan penilaian di rentang menengah ke atas**.\n",
        "\n",
        "---\n",
        "\n",
        "Distribusi **Global Sales**\n",
        "\n",
        "* Distribusi sangat **right-skewed** (long-tail effect).\n",
        "* Mayoritas game memiliki penjualan **di bawah 1 juta unit**.\n",
        "* Hanya sedikit game yang mencapai penjualan **fenomenal** (>10 juta unit)."
      ]
    },
    {
      "cell_type": "markdown",
      "metadata": {
        "id": "LT2xH5CMfIuy"
      },
      "source": [
        "### **Check Outlier dengan Boxplot**"
      ]
    },
    {
      "cell_type": "code",
      "execution_count": 189,
      "metadata": {
        "colab": {
          "base_uri": "https://localhost:8080/",
          "height": 407
        },
        "id": "WrCYG_y0fDDF",
        "outputId": "f8485002-992e-4e87-ec98-bbe3d75062fc"
      },
      "outputs": [
        {
          "data": {
            "image/png": "[encoded data removed]",
            "text/plain": [
              "<Figure size 1500x400 with 3 Axes>"
            ]
          },
          "metadata": {},
          "output_type": "display_data"
        }
      ],
      "source": [
        "plt.figure(figsize=(15, 4))\n",
        "\n",
        "plt.subplot(1, 3, 1)\n",
        "sns.boxplot(x=df['User_Score'])\n",
        "plt.title('Boxplot User Score')\n",
        "\n",
        "plt.subplot(1, 3, 2)\n",
        "sns.boxplot(x=df['Critic_Score'])\n",
        "plt.title('Boxplot Critic Score')\n",
        "\n",
        "plt.subplot(1, 3, 3)\n",
        "sns.boxplot(x=df['Global_Sales'])\n",
        "plt.title('Boxplot Global Sales')\n",
        "\n",
        "plt.tight_layout()\n",
        "plt.show()"
      ]
    },
    {
      "cell_type": "markdown",
      "metadata": {
        "id": "KtJRReMMfprk"
      },
      "source": [
        "**Insight**:\n",
        "\n",
        "- Data User Score menunjukkan banyak outlier dan kemungkinan data kotor (perlu preprocessing lebih lanjut). Critic Score terdistribusi normal dengan sebagian besar skor berada di rentang 60–80, namun tetap terdapat beberapa outlier di skor rendah.\n",
        "- Global Sales, distribusi sangat right-skewed dengan banyak game berpenjualan rendah dan hanya sedikit game yang mencapai penjualan sangat tinggi (outlier), menunjukkan pola umum di industri hiburan di mana segelintir game blockbuster mendominasi pasar."
      ]
    },
    {
      "cell_type": "markdown",
      "metadata": {
        "id": "KDyjUMi4fmjC"
      },
      "source": [
        "### **Korelasi antara fitur numerik**"
      ]
    },
    {
      "cell_type": "code",
      "execution_count": 190,
      "metadata": {
        "colab": {
          "base_uri": "https://localhost:8080/",
          "height": 642
        },
        "id": "O033S_FIfmV4",
        "outputId": "49c617c3-915f-4f77-e5be-efb7115c5a62"
      },
      "outputs": [
        {
          "data": {
            "image/png": "[encoded data removed]",
            "text/plain": [
              "<Figure size 800x600 with 2 Axes>"
            ]
          },
          "metadata": {},
          "output_type": "display_data"
        }
      ],
      "source": [
        "df['User_Score'] = pd.to_numeric(df['User_Score'], errors='coerce')\n",
        "\n",
        "numeric_cols = df.select_dtypes(include=['int64', 'float64']).columns\n",
        "\n",
        "plt.figure(figsize=(8, 6))\n",
        "sns.heatmap(df[numeric_cols].corr(), annot=True, cmap='coolwarm')\n",
        "plt.title('Korelasi antar fitur numerik')\n",
        "plt.show()"
      ]
    },
    {
      "cell_type": "markdown",
      "metadata": {
        "id": "73DtSj9Jgxnj"
      },
      "source": [
        "**Insight**:\n",
        "\n",
        "Terlihat bahwa Global Sales sangat berkorelasi kuat dengan semua regional sales, terutama dengan NA_Sales (0.94), diikuti oleh EU_Sales (0.90) dan Other_Sales (0.75), yang memang wajar karena Global Sales merupakan akumulasi dari penjualan regional. Korelasi antara Critic Score dan User Score bersifat positif (0.58), mengindikasikan adanya hubungan cukup baik antara penilaian kritikus dan penilaian pengguna. Fitur Year_of_Release memiliki korelasi lemah terhadap hampir semua variabel, tahun rilis game tidak secara langsung memengaruhi sales atau skor. Penjualan lebih dipengaruhi oleh performa di regional market dibanding faktor-faktor seperti skor."
      ]
    },
    {
      "cell_type": "markdown",
      "metadata": {
        "id": "WqrSdT1OhE7p"
      },
      "source": [
        "### **Cek Unik Value pada Fitur Kategorikal**"
      ]
    },
    {
      "cell_type": "code",
      "execution_count": 191,
      "metadata": {
        "colab": {
          "base_uri": "https://localhost:8080/"
        },
        "id": "Gzgigw64hGsz",
        "outputId": "3648f4fb-99f2-4d80-ddf3-f93c5e148ecb"
      },
      "outputs": [
        {
          "name": "stdout",
          "output_type": "stream",
          "text": [
            "Platform - Jumlah kategori unik: 31\n",
            "Platform\n",
            "PS2     2161\n",
            "DS      2152\n",
            "PS3     1331\n",
            "Wii     1320\n",
            "X360    1262\n",
            "Name: count, dtype: int64 \n",
            "\n",
            "Genre - Jumlah kategori unik: 12\n",
            "Genre\n",
            "Action          3370\n",
            "Sports          2348\n",
            "Misc            1750\n",
            "Role-Playing    1500\n",
            "Shooter         1323\n",
            "Name: count, dtype: int64 \n",
            "\n",
            "Developer - Jumlah kategori unik: 1696\n",
            "Developer\n",
            "Ubisoft      204\n",
            "EA Sports    172\n",
            "EA Canada    167\n",
            "Konami       162\n",
            "Capcom       139\n",
            "Name: count, dtype: int64 \n",
            "\n",
            "Publisher - Jumlah kategori unik: 581\n",
            "Publisher\n",
            "Electronic Arts                 1356\n",
            "Activision                       985\n",
            "Namco Bandai Games               939\n",
            "Ubisoft                          933\n",
            "Konami Digital Entertainment     834\n",
            "Name: count, dtype: int64 \n",
            "\n",
            "Rating - Jumlah kategori unik: 8\n",
            "Rating\n",
            "E       3991\n",
            "T       2961\n",
            "M       1563\n",
            "E10+    1420\n",
            "EC         8\n",
            "Name: count, dtype: int64 \n",
            "\n"
          ]
        }
      ],
      "source": [
        "categorical_cols = ['Platform', 'Genre', 'Developer', 'Publisher', 'Rating']\n",
        "for col in categorical_cols:\n",
        "    print(f\"{col} - Jumlah kategori unik: {df[col].nunique()}\")\n",
        "    print(df[col].value_counts().head(), \"\\n\")"
      ]
    },
    {
      "cell_type": "markdown",
      "metadata": {
        "id": "0gSd1beMhT0r"
      },
      "source": [
        "**Insight**:\n",
        "\n",
        "Industri game ini didominasi oleh beberapa platform populer (PS2, DS), genre action dan sports, serta beberapa developer dan publisher besar seperti Ubisoft dan EA. Pasar game ini cenderung fokus pada game dengan rating yang lebih ramah untuk berbagai usia, namun juga memiliki segmen game dewasa yang cukup besar."
      ]
    },
    {
      "cell_type": "markdown",
      "metadata": {
        "id": "K0BCgvHxhYUr"
      },
      "source": [
        "### **Visualisasi Genre / Platform Populer**"
      ]
    },
    {
      "cell_type": "code",
      "execution_count": 192,
      "metadata": {
        "colab": {
          "base_uri": "https://localhost:8080/",
          "height": 957
        },
        "id": "wgRK60AOhVtW",
        "outputId": "b8cb5b2a-5b1a-4fbf-8165-b06f2691c2e7"
      },
      "outputs": [
        {
          "data": {
            "image/png": "[encoded data removed]",
            "text/plain": [
              "<Figure size 1200x500 with 1 Axes>"
            ]
          },
          "metadata": {},
          "output_type": "display_data"
        },
        {
          "data": {
            "image/png": "[encoded data removed]",
            "text/plain": [
              "<Figure size 1200x500 with 1 Axes>"
            ]
          },
          "metadata": {},
          "output_type": "display_data"
        }
      ],
      "source": [
        "plt.figure(figsize=(12,5))\n",
        "sns.countplot(data=df, y='Genre', order=df['Genre'].value_counts().index[:10])\n",
        "plt.title(\"10 Genre Terpopuler\")\n",
        "plt.show()\n",
        "\n",
        "plt.figure(figsize=(12,5))\n",
        "sns.countplot(data=df, y='Platform', order=df['Platform'].value_counts().index[:10])\n",
        "plt.title(\"10 Platform Terpopuler\")\n",
        "plt.show()"
      ]
    },
    {
      "cell_type": "markdown",
      "metadata": {
        "id": "2bANbd3JhvFS"
      },
      "source": [
        "**Insight**:\n",
        "\n",
        "-  Genre Action adalah genre game paling populer dengan jumlah rilis terbanyak, diikuti oleh Sports dan Misc. Ini menunjukkan bahwa game dengan elemen aksi dan olahraga memiliki daya tarik yang cukup besar di pasar.\n",
        "\n",
        "- Untuk platform, PS2 dan DS mendominasi sebagai platform dengan jumlah game terbanyak, menandakan kedua konsol tersebut dalam industri game. Konsol seperti PS3, Wii, dan X360 juga cukup tinggi, memperlihatkan dominasi konsol generasi tersebut dalam mendistribusikan game."
      ]
    },
    {
      "cell_type": "markdown",
      "metadata": {
        "id": "xgP00U_0jYTe"
      },
      "source": [
        "### **Distribusi Game Berdasarkan Tahun Rilis**"
      ]
    },
    {
      "cell_type": "code",
      "execution_count": 193,
      "metadata": {
        "colab": {
          "base_uri": "https://localhost:8080/",
          "height": 487
        },
        "id": "8UOjeGWRhmfd",
        "outputId": "937fafe0-e6a2-43f2-9f43-0a58faefdbc1"
      },
      "outputs": [
        {
          "data": {
            "image/png": "[encoded data removed]",
            "text/plain": [
              "<Figure size 1200x500 with 1 Axes>"
            ]
          },
          "metadata": {},
          "output_type": "display_data"
        }
      ],
      "source": [
        "plt.figure(figsize=(12,5))\n",
        "sns.histplot(df['Year_of_Release'].dropna(), bins=30, kde=False)\n",
        "plt.title(\"Distribusi Tahun Rilis Game\")\n",
        "plt.xlabel(\"Tahun\")\n",
        "plt.ylabel(\"Jumlah Game\")\n",
        "plt.show()"
      ]
    },
    {
      "cell_type": "markdown",
      "metadata": {
        "id": "aLsV0acUtVEp"
      },
      "source": [
        "**Insight**:\n",
        "\n",
        "Jumlah perilisan game mengalami peningkatan signifikan mulai awal 2000-an dan mencapai puncaknya sekitar tahun 2008–2009, yang merupakan era tertinggu untuk banyak konsol populer seperti PS2, Wii, dan Xbox 360. Setelah itu, terjadi penurunan bertahap dalam jumlah game yang dirilis, yang kemungkinan disebabkan oleh pergeseran industri ke arah kualitas, digital distribution, atau perubahan tren pengembangan game. Tahun-tahun sebelum 1995 menunjukkan jumlah rilis yang masih sangat rendah, menandakan awal pertumbuhan industri game."
      ]
    },
    {
      "cell_type": "markdown",
      "metadata": {
        "id": "QBoFvOSiSPdv"
      },
      "source": [
        "# **4. Preprocessing / Data Preparation**"
      ]
    },
    {
      "cell_type": "markdown",
      "metadata": {
        "id": "RDDuYlXxlTeh"
      },
      "source": [
        "### **Menangani missing values dan persiapan dataset**\n",
        "\n",
        "Data dibersihkan dan disiapkan untuk pemodelan. Langkah-langkah yang dilakukan sesuai dengan urutan kode adalah sebagai berikut:\n",
        "\n",
        "- Menghapus Kolom: Kolom yang tidak terlalu kritikal dan memiliki banyak missing value seperti Critic_Score, Critic_Count, User_Count, dan Developer dihapus terlebih dahulu.\n",
        "\n",
        "- Mengubah Tipe Data User_Score: Kolom User_Score, yang masih bertipe object, diubah menjadi numerik.\n",
        "\n",
        "- Menghapus Baris dengan Nilai Kosong: Setelah perubahan di atas, semua baris yang masih memiliki nilai kosong (NaN) pada kolom-kolom penting (Name, Genre, Publisher, User_Score, dll.) akan dihapus untuk memastikan integritas data.\n",
        "\n",
        "- Konversi Tipe Data Year_of_Release: Sebagai langkah terakhir, kolom Year_of_Release diubah menjadi tipe data integer untuk konsistensi."
      ]
    },
    {
      "cell_type": "code",
      "execution_count": 194,
      "metadata": {
        "id": "jIbytB2Mle1R"
      },
      "outputs": [],
      "source": [
        "df = df.drop(['Critic_Score', 'Critic_Count', 'User_Count', 'Developer'], axis=1)\n",
        "\n",
        "df['User_Score'] = pd.to_numeric(df['User_Score'], errors='coerce')\n",
        "df.dropna(subset=['Name', 'Year_of_Release', 'Genre', 'Platform', 'Publisher', 'User_Score', 'Rating'], inplace=True)"
      ]
    },
    {
      "cell_type": "markdown",
      "metadata": {
        "id": "JvD0Tan_lzLU"
      },
      "source": [
        "### **Konversi tipe data**\n",
        "\n",
        "Kolom `Year_of_Release` perlu untuk di ubah ke bentuk `int`"
      ]
    },
    {
      "cell_type": "code",
      "execution_count": 195,
      "metadata": {
        "colab": {
          "base_uri": "https://localhost:8080/"
        },
        "id": "3q13KDAil0II",
        "outputId": "9309fa2d-2a20-4cee-8620-d76de84498be"
      },
      "outputs": [
        {
          "name": "stdout",
          "output_type": "stream",
          "text": [
            "Name               0\n",
            "Platform           0\n",
            "Year_of_Release    0\n",
            "Genre              0\n",
            "Publisher          0\n",
            "NA_Sales           0\n",
            "EU_Sales           0\n",
            "JP_Sales           0\n",
            "Other_Sales        0\n",
            "Global_Sales       0\n",
            "User_Score         0\n",
            "Rating             0\n",
            "dtype: int64\n",
            "DataFrame shape after cleaning: (7378, 12)\n"
          ]
        }
      ],
      "source": [
        "df['Year_of_Release'] = df['Year_of_Release'].astype(int)\n",
        "\n",
        "print(df.isnull().sum())\n",
        "print(f\"DataFrame shape after cleaning: {df.shape}\")"
      ]
    },
    {
      "cell_type": "markdown",
      "metadata": {
        "id": "Fh1OJUbLep-W"
      },
      "source": [
        "**Filter DataFrame to focus on games with User_Score >= 7.0**\n",
        "\n",
        "Berfokus kepada data games yang memiliki score tinggi"
      ]
    },
    {
      "cell_type": "code",
      "execution_count": 196,
      "metadata": {
        "id": "dipcIjqrezMO"
      },
      "outputs": [],
      "source": [
        "df_filtered_high_score = df[df['User_Score'] >= 7.0].copy()"
      ]
    },
    {
      "cell_type": "markdown",
      "metadata": {
        "id": "MI5_DjsXiIKK"
      },
      "source": [
        "**Membuat dataset yang akan digunakan untuk pendekatan content-based filtering**\n",
        "\n",
        "Langkah ini bertujuan untuk membuat DataFrame baru (df_cb) yang dikhususkan untuk model Content-Based Filtering. Dataset ini berisi game-game dengan skor pengguna tinggi (>= 7.0) dan memilih kolom-kolom relevan yang akan digunakan sebagai fitur."
      ]
    },
    {
      "cell_type": "code",
      "execution_count": 197,
      "metadata": {
        "id": "7yQu__X9hvWu"
      },
      "outputs": [],
      "source": [
        "df_cb = df_filtered_high_score[['Name', 'Genre', 'Platform', 'Publisher', 'Rating', 'Year_of_Release',\n",
        "                                'User_Score', 'Global_Sales']].copy()"
      ]
    },
    {
      "cell_type": "markdown",
      "metadata": {
        "id": "L86HxccQqFC5"
      },
      "source": [
        "### **Normalisasi Fitur Numerik**\n",
        "\n",
        "- **Normalisasi**: Fitur User_Score dan Global_Sales dinormalisasi ke dalam rentang [0, 1]. Ini bertujuan untuk menyeragamkan skala nilai agar bisa digabungkan dengan fitur lain secara adil.\n",
        "\n",
        "- **Kategorisasi (Binning)**: Nilai yang sudah dinormalisasi kemudian dikelompokkan ke dalam kategori (seperti 'low', 'medium', 'high'). Ini membantu model untuk menangkap pola umum tanpa terlalu terpengaruh oleh nilai absolut."
      ]
    },
    {
      "cell_type": "code",
      "execution_count": 198,
      "metadata": {
        "id": "lF9xXxF3p8-t"
      },
      "outputs": [],
      "source": [
        "scaler = MinMaxScaler()\n",
        "df_cb[['User_Score_norm', 'Global_Sales_norm']] = scaler.fit_transform(df_cb[['User_Score', 'Global_Sales']])"
      ]
    },
    {
      "cell_type": "markdown",
      "metadata": {},
      "source": [
        "**Kategorisasi Fitur Numerik 'User_Score_category' dan 'Global_Sales_category'**\n",
        "\n",
        "- df_cb['User_Score_category']:\n",
        "Membagi skor pengguna menjadi 3 kategori ('low', 'medium', 'high') berdasarkan rentang nilai absolut. Digunakan pd.cut dengan batas [0, 5, 7, 10] untuk menyederhanakan analisis dan menangkap pola umum dari skor.\n",
        "\n",
        "- df_cb['Global_Sales_category']:\n",
        "Mengelompokkan nilai penjualan global yang telah dinormalisasi ke dalam 3 kuantil sama besar ('low', 'medium', 'high') menggunakan pd.qcut. Tujuannya agar distribusi kategori lebih seimbang."
      ]
    },
    {
      "cell_type": "code",
      "execution_count": 199,
      "metadata": {
        "id": "R9TwlUFXQeN1"
      },
      "outputs": [],
      "source": [
        "df_cb['User_Score_category'] = pd.cut(\n",
        "    df_cb['User_Score'], bins=[0, 5, 7, 10], labels=['low', 'medium', 'high'], right=False\n",
        ").astype(str)\n",
        "\n",
        "df_cb['Global_Sales_category'] = pd.qcut(df_cb['Global_Sales_norm'], q=3, labels=['low', 'medium', 'high'])"
      ]
    },
    {
      "cell_type": "markdown",
      "metadata": {
        "id": "nw5JEa9HqYr9"
      },
      "source": [
        "### **Simulasi Data User (untuk Collaborative Filtering)**\n",
        "\n",
        "Karena dataset asli tidak memiliki user_id, pada tahap ini dibuatlah data pengguna sintetis (dummy). Sebuah DataFrame baru (df_cf) dibuat dengan asumsi bahwa game-game yang memiliki rating tinggi disukai oleh sekelompok pengguna acak. Ini memungkinkan kita untuk mensimulasikan interaksi user-item yang diperlukan oleh model Collaborative Filtering."
      ]
    },
    {
      "cell_type": "code",
      "execution_count": 200,
      "metadata": {
        "id": "bxrF6TbzqquL"
      },
      "outputs": [],
      "source": [
        "df_cf = df.copy()\n",
        "df_cf = df_cf[df_cf['User_Score'] >= 7]\n",
        "\n",
        "np.random.seed(42)\n",
        "df_cf['user_id'] = np.random.randint(0, 500, size=len(df_cf))\n",
        "\n",
        "df_cf = df_cf[['user_id', 'Name', 'User_Score']]"
      ]
    },
    {
      "cell_type": "markdown",
      "metadata": {
        "id": "pBH0VcdHqwM_"
      },
      "source": [
        "### **Fitur Akhir dan Penyesuaian Dataset**\n",
        "\n",
        "1. Content-Based Filtering(df_cb):\n",
        "  - Dibuat kolom combined_features yang lebih kompleks dengan memberikan bobot berbeda pada setiap fitur (misalnya, Genre diberi pengaruh lebih besar). Ini bertujuan untuk membuat model lebih fokus pada fitur yang paling penting.\n",
        "  - Indeks DataFrame di-reset untuk memastikan sinkronisasi dengan matriks kemiripan (cosine similarity).\n",
        "\n",
        "2. Collaborative Filtering (df_cf):\n",
        "  - Kolom-kolom dipilih kembali untuk memastikan DataFrame hanya berisi user_id, Name, dan User_Score yang dibutuhkan oleh model LightFM."
      ]
    },
    {
      "cell_type": "code",
      "execution_count": 201,
      "metadata": {
        "id": "b8TZRd8BqzvL"
      },
      "outputs": [],
      "source": [
        "df_cb['combined_features'] = (\n",
        "    df_cb['Name'].fillna('') + ' ' +\n",
        "    (df_cb['Genre'].fillna('') + ' ') * 8 +\n",
        "    (df_cb['Platform'].fillna('') + ' ') * 5 +\n",
        "    (df_cb['Publisher'].fillna('') + ' ') * 4 +\n",
        "    (df_cb['Rating'].fillna('') + ' ') * 3 +\n",
        "    (df_cb['User_Score_category'].astype(str) + ' ') * 6 +\n",
        "    (df_cb['Global_Sales_category'].astype(str) + ' ') * 6 +\n",
        "    df_cb['Year_of_Release'].astype(str)\n",
        ")\n",
        "\n",
        "df_cb.reset_index(drop=True, inplace=True)"
      ]
    },
    {
      "cell_type": "code",
      "execution_count": 202,
      "metadata": {
        "id": "V_f-e5K4q1oT"
      },
      "outputs": [],
      "source": [
        "df_cf = df_cf[['user_id', 'Name', 'User_Score']]"
      ]
    },
    {
      "cell_type": "markdown",
      "metadata": {
        "id": "AvC9-xCrIMvw"
      },
      "source": [
        "**Membuat ulang TF-IDF dan cosine similarity**\n",
        "\n",
        "Tahap finalisasi persiapan data sebelum pemodelan:\n",
        "\n",
        "Pada tahap ini, kita akan membangun inti dari model Content-Based Filtering. Prosesnya adalah sebagai berikut:\n",
        "\n",
        "- TF-IDF Vectorization: Mengubah seluruh fitur gabungan (Genre, Publisher, dll.) dari setiap game menjadi representasi angka (vektor). Ini memungkinkan kita untuk menghitung kemiripan secara matematis.\n",
        "\n",
        "- Hybrid Similarity: Menghitung dua jenis kemiripan:\n",
        "  1. Kemiripan Konten (Teks): Seberapa mirip metadata antar game.\n",
        "  2. Kemiripan Numerik: Seberapa mirip skor dan penjualan antar game.\n",
        "  Kedua jenis kemiripan ini kemudian digabungkan dengan bobot 80% untuk konten dan 20% untuk numerik untuk mendapatkan skor kemiripan akhir yang komprehensif.\n",
        "\n",
        "- Indexing: Membuat sebuah indices untuk memetakan nama setiap game ke indeksnya di dalam dataset, untuk memudahkan proses pencarian."
      ]
    },
    {
      "cell_type": "code",
      "execution_count": 203,
      "metadata": {
        "colab": {
          "base_uri": "https://localhost:8080/"
        },
        "id": "gbWtrqs755RN",
        "outputId": "9888ee82-c9ea-4fa0-c67b-7074951c19b7"
      },
      "outputs": [
        {
          "name": "stdout",
          "output_type": "stream",
          "text": [
            "\n",
            "Fitting TF-IDF Vectorizer...\n",
            "TF-IDF matrix shape: (4766, 15208)\n"
          ]
        }
      ],
      "source": [
        "tfidf = TfidfVectorizer(\n",
        "    stop_words='english',\n",
        "    max_features=30000,\n",
        "    ngram_range=(1, 4),\n",
        "    min_df=2,\n",
        "    max_df=0.7\n",
        ")\n",
        "\n",
        "print(\"\\nFitting TF-IDF Vectorizer...\")\n",
        "tfidf_matrix = tfidf.fit_transform(df_cb['combined_features'])\n",
        "print(f\"TF-IDF matrix shape: {tfidf_matrix.shape}\")\n",
        "\n",
        "cosine_sim_text = cosine_similarity(tfidf_matrix)\n",
        "numeric_features_for_sim = df_cb[['User_Score_norm', 'Global_Sales_norm']].fillna(0)\n",
        "cosine_sim_numeric = cosine_similarity(numeric_features_for_sim)\n",
        "\n",
        "alpha = 0.80\n",
        "beta = 0.20\n",
        "cosine_sim_combined = (cosine_sim_text * alpha) + (cosine_sim_numeric * beta)\n",
        "\n",
        "indices = pd.Series(df_cb.index, index=df_cb['Name']).drop_duplicates()"
      ]
    },
    {
      "cell_type": "markdown",
      "metadata": {
        "id": "MiIGlxwaSPYY"
      },
      "source": [
        "# **5. Modeling**\n",
        "\n",
        "Dalam project ini saya akan lebih berfokus untuk pengembangan model dalam pendekatan content-based filtering karena penggunaan dataset yang lebih sesuai, bila menggunakan collaborative filtering masih kurang sesuai karena kurangnya feature ID user dalam dataset tersebut.\n",
        "\n",
        "Tapi disini saya akan tetap mencoba untuk membuat model dengan pendekatan Collaborative Filtering untuk dijadikan bahan pertimbanagan dan evaluasi dari hasil model."
      ]
    },
    {
      "cell_type": "markdown",
      "metadata": {
        "id": "0VjZZo5qw8Ce"
      },
      "source": [
        "## **Pendekatan 1: Content-Based Filtering**\n",
        "Pada project ini saya akan berfokus untuk mengembangkan model CBF ini karena kesesuaiannya yang lebih baik dengan dataset dibandingkan dengan Collaborative Filtering.\n",
        "\n",
        "Pendekatan ini akan memberikan rekomendasi berdasarkan kemiripan metadata antar game. Tahapan yang dilakukan meliputi:\n",
        "\n",
        "- Melakukan pemodelan dengan TF-IDF dan Cosine Similarity.\n",
        "- Membuat fungsi untuk menjalankan dan mengevaluasi rekomendasi.\n",
        "- Menganalisis hasil performa model."
      ]
    },
    {
      "cell_type": "markdown",
      "metadata": {
        "id": "SoiOtw-7Icvy"
      },
      "source": [
        "**Membuat fungsi rekomendasi game untuk pendekatan CBF**\n",
        "Fungsi ini digunakan untuk menjalankan sistem rekomendasi. Setelah pengguna memasukkan judul game yang mereka sukai, fungsi ini akan:\n",
        "- Mencari game tersebut di dalam dataset.\n",
        "- Mengambil skor kemiripan yang sudah dihitung sebelumnya.\n",
        "- Mengurutkan dan menampilkan daftar game teratas yang paling mirip."
      ]
    },
    {
      "cell_type": "code",
      "execution_count": 204,
      "metadata": {
        "id": "BJM38kgDuuA4"
      },
      "outputs": [],
      "source": [
        "def run_cbf_recommendation(df_cb, cosine_sim, indices, title_input=None, k=10, verbose=True):\n",
        "    if title_input is None:\n",
        "        title_input = input(\"Masukkan judul game yang Anda sukai (CBF): \").strip()\n",
        "\n",
        "    if title_input not in indices:\n",
        "        if verbose:\n",
        "            print(\"⚠️ Game tidak ditemukan dalam dataset Content-Based Filtering.\")\n",
        "        return pd.DataFrame()\n",
        "\n",
        "    idx = indices[title_input]\n",
        "    if isinstance(idx, pd.Series):\n",
        "        idx = idx.iloc[0]\n",
        "\n",
        "    sim_scores = list(enumerate(cosine_sim[idx].ravel()))\n",
        "    sim_scores = sorted(sim_scores, key=lambda x: x[1], reverse=True)[1:k+1]\n",
        "\n",
        "    game_indices = [i[0] for i in sim_scores if i[0] < len(df_cb)]\n",
        "    recommendations_df = df_cb.iloc[game_indices].copy()\n",
        "\n",
        "    if 'User_Score' in recommendations_df.columns:\n",
        "        recommendations_df = recommendations_df[['Name', 'User_Score']]\n",
        "    else:\n",
        "        recommendations_df = recommendations_df[['Name']]\n",
        "\n",
        "    recommendations_df = recommendations_df.drop_duplicates(subset='Name').reset_index(drop=True)\n",
        "\n",
        "    if verbose:\n",
        "        print(f\"\\n📌 Rekomendasi game mirip dengan '{title_input}' (CBF):\\n\")\n",
        "\n",
        "    return recommendations_df"
      ]
    },
    {
      "cell_type": "markdown",
      "metadata": {
        "id": "ICZ4SF7qSJns"
      },
      "source": [
        "**Fungsi Evaluasi Rekomendasi CBF**\n",
        "\n",
        "Fungsi evaluasi ini dibuat untuk mengukur performa model Content-Based. Metrik yang digunakan adalah Precision@k dan Recall@k, dengan mendefinisikan \"item relevan\" sebagai game lain yang memiliki Genre dan Publisher yang sama."
      ]
    },
    {
      "cell_type": "code",
      "execution_count": 205,
      "metadata": {
        "id": "gmJsilJcvbsx"
      },
      "outputs": [],
      "source": [
        "def evaluate_cbf(df_cb_filtered, cosine_sim_matrix, indices, k=5):\n",
        "    precision_list = []\n",
        "    recall_list = []\n",
        "    eval_titles = df_cb_filtered['Name'].unique()\n",
        "\n",
        "    for title in eval_titles:\n",
        "        title = str(title)\n",
        "\n",
        "        if title not in indices.index:\n",
        "            continue\n",
        "\n",
        "        idx = indices[title]\n",
        "        idx = idx.iloc[0] if isinstance(idx, pd.Series) else idx\n",
        "\n",
        "        sim_scores = list(enumerate(cosine_sim_matrix[idx]))\n",
        "        sim_scores = sorted(sim_scores, key=lambda x: x[1], reverse=True)\n",
        "        recommended_indices = [i for i, score in sim_scores if i != idx][:k]\n",
        "        recommended_titles = df_cb_filtered.iloc[recommended_indices]['Name'].tolist()\n",
        "\n",
        "        current_game_genre = df_cb_filtered.iloc[idx]['Genre']\n",
        "        current_game_publisher = df_cb_filtered.iloc[idx]['Publisher']\n",
        "\n",
        "        relevant_items_pool = df_cb_filtered[\n",
        "            (df_cb_filtered['Genre'] == current_game_genre) &\n",
        "            (df_cb_filtered['Publisher'] == current_game_publisher) &\n",
        "            (df_cb_filtered['Name'] != title)\n",
        "        ]['Name'].tolist()\n",
        "\n",
        "        if not relevant_items_pool:\n",
        "            continue\n",
        "\n",
        "        true_positives = len(set(recommended_titles) & set(relevant_items_pool))\n",
        "\n",
        "        precision = true_positives / k\n",
        "        recall = true_positives / len(relevant_items_pool)\n",
        "\n",
        "        precision_list.append(precision)\n",
        "        recall_list.append(recall)\n",
        "\n",
        "    if not precision_list:\n",
        "        return 0.0, 0.0\n",
        "\n",
        "    return np.mean(precision_list), np.mean(recall_list)"
      ]
    },
    {
      "cell_type": "markdown",
      "metadata": {
        "id": "cf2s3mLSMzEV"
      },
      "source": [
        "**Melihat hasil evaluasi model**\n",
        "\n",
        "Sel ini menjalankan fungsi evaluasi pada seluruh dataset untuk menghitung skor rata-rata Precision dan Recall dari model CBF yang telah dibuat."
      ]
    },
    {
      "cell_type": "code",
      "execution_count": 206,
      "metadata": {
        "colab": {
          "base_uri": "https://localhost:8080/"
        },
        "id": "umjgyvcg4lqy",
        "outputId": "a8b49ff9-d8dc-40ec-8cae-1679934b5bad"
      },
      "outputs": [
        {
          "name": "stdout",
          "output_type": "stream",
          "text": [
            "Precision@5: 0.7436\n",
            "Recall@5: 0.2914\n"
          ]
        }
      ],
      "source": [
        "cbf_precision, cbf_recall = evaluate_cbf(df_cb, cosine_sim_combined, indices, k=5)\n",
        "print(f'Precision@5: {cbf_precision:.4f}')\n",
        "print(f'Recall@5: {cbf_recall:.4f}')"
      ]
    },
    {
      "cell_type": "markdown",
      "metadata": {
        "id": "NFxFtSbCI9on"
      },
      "source": [
        "**Insight:**\n",
        "\n",
        "- Precision@5: 0.7436\n",
        "- Recall@5: 0.2914\n",
        "\n",
        "Dari setiap 5 rekomendasi yang diberikan, rata-rata sekitar 74.36% di antaranya relevan (memiliki Genre dan Publisher yang sama). Angka presisi yang tinggi ini membuktikan bahwa model sangat akurat dalam mengidentifikasi game dengan konten serupa.\n",
        "\n",
        "Selain itu, sistem ini berhasil menangkap sekitar 29.14% dari seluruh item yang dianggap relevan. Hasil ini menunjukkan bahwa pendekatan berbasis konten yang telah disesuaikan cukup kuat dan efektif untuk menangkap kemiripan metadata."
      ]
    },
    {
      "cell_type": "markdown",
      "metadata": {
        "id": "G_Lv_qDOyerZ"
      },
      "source": [
        "## **Pendekatan 2: Collaborative Filtering (LightFM)**\n",
        "\n",
        "Mencoba untuk membuat model dengan pendekatan Collaborative Filtering menggunakan library LightFM. Langkah-langkahnya adalah:\n",
        "\n",
        "- Membuat dataset user-item.\n",
        "- Melatih model dengan loss 'warp' (Weighted Approximate-Rank Pairwise).\n",
        "- Mengevaluasi performa menggunakan Precision@k dan Recall@k.\n",
        "\n",
        "Model ini hanya akan digunakan sebagai perbandingan saja dan tidak akan terlalu difokuskan pada project ini."
      ]
    },
    {
      "cell_type": "code",
      "execution_count": 207,
      "metadata": {
        "id": "NmQp3AYFyuwk"
      },
      "outputs": [],
      "source": [
        "lfm_dataset = LFDataset()\n",
        "lfm_dataset.fit(df_cf['user_id'], df_cf['Name'])\n",
        "\n",
        "(interactions, weights) = lfm_dataset.build_interactions(\n",
        "    [(row['user_id'], row['Name'], row['User_Score']) for _, row in df_cf.iterrows()]\n",
        ")\n",
        "\n",
        "model = LightFM(loss='warp')\n",
        "model.fit(interactions, epochs=10, num_threads=2)\n",
        "\n",
        "train_precision_cf = precision_at_k(model, interactions, k=5).mean()\n",
        "train_recall_cf = recall_at_k(model, interactions, k=5).mean()"
      ]
    },
    {
      "cell_type": "markdown",
      "metadata": {
        "id": "MzPhe_NEpvmi"
      },
      "source": [
        "**Testing Evaluation**\n",
        "\n",
        "Melihat hasil dari metrik precision dan recall dari pendekatan Collaborative Filtering menggunakan model LightFM yang telah dilatih."
      ]
    },
    {
      "cell_type": "code",
      "execution_count": 208,
      "metadata": {
        "colab": {
          "base_uri": "https://localhost:8080/"
        },
        "id": "zav6U0_OpvVX",
        "outputId": "1e80cb51-567f-410a-e695-9d4f69529fb2"
      },
      "outputs": [
        {
          "name": "stdout",
          "output_type": "stream",
          "text": [
            "Precision@5: 0.2384\n",
            "Recall@5: 0.1267\n"
          ]
        }
      ],
      "source": [
        "print(f'Precision@5: {train_precision_cf:.4f}')\n",
        "print(f'Recall@5: {train_recall_cf:.4f}')"
      ]
    },
    {
      "cell_type": "markdown",
      "metadata": {
        "id": "Vwi68sWHLgD0"
      },
      "source": [
        "**Insight**:\n",
        "- Precision@5: 0.2384\n",
        "- Recall@5: 0.1267\n",
        "\n",
        "Dari setiap 5 rekomendasi, sekitar 23.84% relevan bagi pengguna berdasarkan riwayat interaksi (sintetis). Model ini berhasil menangkap 12.67% dari seluruh item yang relevan.\n",
        "\n",
        "Meskipun angka ini lebih rendah dari CBF, ini menunjukkan bahwa model CF cukup mampu memahami pola preferensi antar pengguna, bahkan dengan data user yang disimulasikan."
      ]
    },
    {
      "cell_type": "markdown",
      "metadata": {
        "id": "b70drdYzSbsA"
      },
      "source": [
        "**Fungsi rekomendasi game untuk pendekatan CF**\n",
        "\n",
        "- Menemukan Pengguna Serupa: Mengidentifikasi semua pengguna yang memberikan skor tinggi untuk game yang diinput.\n",
        "- Menggabungkan Selera: Menganalisis selera kolektif dari grup pengguna tersebut untuk menemukan game-game lain yang mereka nikmati.\n",
        "- Memberikan Rekomendasi: Menampilkan daftar game teratas yang paling populer di antara grup pengguna serupa tersebut.\n",
        "\n",
        "Fungsi ini akan digunakan untuk melakukan sistem rekomendasi dan juga akan digunakan sebagai evaluasi akhir dari performa model."
      ]
    },
    {
      "cell_type": "code",
      "execution_count": 209,
      "metadata": {
        "id": "NLTUpEd2L32f"
      },
      "outputs": [],
      "source": [
        "def run_cf_recommendation(model, dataset, df, k=10, min_score=7.0):\n",
        "    game_title = input(\"Masukkan judul game yang Anda sukai (CF): \").strip()\n",
        "\n",
        "    if game_title not in df['Name'].values:\n",
        "        print(f\"⚠️ Game '{game_title}' tidak ditemukan dalam dataset Collaborative Filtering.\")\n",
        "        return pd.DataFrame()\n",
        "\n",
        "    liked_users = df[(df['Name'] == game_title) & (df['User_Score'] >= min_score)]['user_id'].unique()\n",
        "\n",
        "    if len(liked_users) == 0:\n",
        "        print(f\"⚠️ Tidak ada user yang menyukai '{game_title}' dengan skor tinggi.\")\n",
        "        return pd.DataFrame()\n",
        "\n",
        "    n_items = len(dataset.mapping()[2])\n",
        "    all_scores = model.predict(\n",
        "        user_ids=np.repeat(liked_users, n_items),\n",
        "        item_ids=np.tile(np.arange(n_items), len(liked_users))\n",
        "    )\n",
        "\n",
        "    aggregated_scores = all_scores.reshape(len(liked_users), n_items).mean(axis=0)\n",
        "    top_items_indices = np.argsort(-aggregated_scores)\n",
        "\n",
        "    item_map = {v: k for k, v in dataset.mapping()[2].items()}\n",
        "\n",
        "    game_names = []\n",
        "    for item_idx in top_items_indices:\n",
        "        if len(game_names) >= k:\n",
        "            break\n",
        "        game_name = item_map[item_idx]\n",
        "        if game_name != game_title:\n",
        "            game_names.append(game_name)\n",
        "\n",
        "    recommendations_df = (\n",
        "        df[df['Name'].isin(game_names)]\n",
        "        .drop_duplicates(subset='Name')\n",
        "        [['Name', 'User_Score']]\n",
        "        .set_index('Name')\n",
        "        .loc[game_names]\n",
        "        .reset_index()\n",
        "    )\n",
        "\n",
        "    print(f\"\\n📌 Rekomendasi berdasarkan preferensi user untuk '{game_title}' (CF):\\n\")\n",
        "\n",
        "    return recommendations_df"
      ]
    },
    {
      "cell_type": "markdown",
      "metadata": {
        "id": "cHDHvJGLgPRq"
      },
      "source": [
        "## **Game Recommendation System - Game Library**\n",
        "\n",
        "Fungsi ini untuk memudahkan pencarian game yang tersedia dalam dataset. Pengguna dapat:\n",
        "\n",
        "- Memilih Genre: Menggunakan dropdown untuk memfilter game berdasarkan genre.\n",
        "- Melihat Daftar Game: Menampilkan daftar game yang tersedia untuk genre tersebut, lengkap dengan informasi Publisher dan Rating.\n",
        "- Navigasi Halaman: Menggunakan tombol \"Next\" dan \"Previous\" untuk menelusuri daftar game jika jumlahnya banyak.\n",
        "\n",
        "Tujuannya adalah agar pengguna dapat dengan mudah menemukan judul game yang valid untuk diuji pada fungsi rekomendasi.\n",
        "\n",
        "---\n",
        "\n",
        "**Note**: Hal ini disebabkan karena dataset yang saya gunakan memang tidak mempunyai semua data game yang ada pada saat ini, terutama game-game yang baru rilis beberapa tahun belakangan."
      ]
    },
    {
      "cell_type": "code",
      "execution_count": 210,
      "metadata": {
        "id": "uYobMo4VdBbo"
      },
      "outputs": [],
      "source": [
        "def get_available_games_by_genre_paginated(df_cb, df_cf, page_size=10):\n",
        "    available_genres = sorted(df_cb['Genre'].dropna().unique())\n",
        "\n",
        "    genre_dropdown = widgets.Dropdown(\n",
        "        options=available_genres,\n",
        "        description='🎮 Genre:',\n",
        "        layout=widgets.Layout(width='50%')\n",
        "    )\n",
        "\n",
        "    output = widgets.Output()\n",
        "    next_button = widgets.Button(description='Next ▶️')\n",
        "    prev_button = widgets.Button(description='◀️ Previous')\n",
        "    page_label = widgets.Label()\n",
        "\n",
        "    state = {\n",
        "        'filtered_df': pd.DataFrame(),\n",
        "        'current_page': 1,\n",
        "        'total_pages': 1\n",
        "    }\n",
        "\n",
        "    def update_output():\n",
        "        with output:\n",
        "            clear_output(wait=True)\n",
        "            df = state['filtered_df']\n",
        "            current_page = state['current_page']\n",
        "            total_pages = state['total_pages']\n",
        "\n",
        "            start_idx = (current_page - 1) * page_size\n",
        "            end_idx = start_idx + page_size\n",
        "            display(df.iloc[start_idx:end_idx].reset_index(drop=True))\n",
        "            page_label.value = f\"📄 Halaman {current_page} dari total {total_pages}\"\n",
        "\n",
        "    def on_genre_change(change):\n",
        "        genre_input = change['new']\n",
        "        common_games = set(df_cb['Name']).intersection(set(df_cf['Name']))\n",
        "        filtered_df = df_cb[\n",
        "            (df_cb['Genre'].str.contains(genre_input, case=False, na=False)) &\n",
        "            (df_cb['Name'].isin(common_games))\n",
        "        ][['Name', 'Genre', 'Publisher', 'Rating']].drop_duplicates().sort_values('Name').reset_index(drop=True)\n",
        "\n",
        "        if filtered_df.empty:\n",
        "            with output:\n",
        "                clear_output()\n",
        "                print(f\"\\n⚠️ Tidak ada game ditemukan untuk genre: {genre_input} ⚠️\")\n",
        "            state['filtered_df'] = pd.DataFrame()\n",
        "            state['current_page'] = 1\n",
        "            state['total_pages'] = 1\n",
        "            page_label.value = \"\"\n",
        "            return\n",
        "\n",
        "        state['filtered_df'] = filtered_df\n",
        "        state['current_page'] = 1\n",
        "        state['total_pages'] = (len(filtered_df) + page_size - 1) // page_size\n",
        "        update_output()\n",
        "\n",
        "    def on_next_clicked(b):\n",
        "        if state['current_page'] < state['total_pages']:\n",
        "            state['current_page'] += 1\n",
        "            update_output()\n",
        "\n",
        "    def on_prev_clicked(b):\n",
        "        if state['current_page'] > 1:\n",
        "            state['current_page'] -= 1\n",
        "            update_output()\n",
        "\n",
        "    genre_dropdown.observe(on_genre_change, names='value')\n",
        "    next_button.on_click(on_next_clicked)\n",
        "    prev_button.on_click(on_prev_clicked)\n",
        "\n",
        "    navigation = widgets.HBox([prev_button, next_button, page_label])\n",
        "    display(genre_dropdown, navigation, output)"
      ]
    },
    {
      "cell_type": "markdown",
      "metadata": {
        "id": "1P0977fxPYLy"
      },
      "source": [
        "**Games Dataset**\n",
        "\n",
        "Menjalankan fungsi Game Library yang telah dibuat. Anda bisa langsung berinteraksi dengan widget di bawah ini untuk mencari game berdasarkan genre. Game yang Anda temukan di sini dapat digunakan sebagai input pada sistem rekomendasi di tahap selanjutnya."
      ]
    },
    {
      "cell_type": "code",
      "execution_count": 216,
      "metadata": {
        "colab": {
          "base_uri": "https://localhost:8080/",
          "height": 427,
          "referenced_widgets": [
            "1cc647381126449b8c03ce81830e4dd2",
            "36e2708ed0054a04ad85e311cad7722e",
            "8dffcaa45f8043ceb568f12a39724042",
            "596f32e9a1e841f68448665fdf27e15e",
            "66523d6591ef49d984f51b7968cb4447",
            "71a778307d264f3f8aa697c8b423897c",
            "10f6ec0e0da34756a71ab321c5cb60d4",
            "5814fbe8218d4aa1b3395be8c0103dd4",
            "c7d1e8f7c82e4bd7ac5843815d25b4f9",
            "7652384c3c414ee08445aec5f77bfefd",
            "3fe939c05b7942938a6049f9903a7979",
            "c038a6efd40d4f1698cc8fda33393181",
            "7eea23c192de41dda13953585f408c3a",
            "7a7710c6f62440b3b3cfead4119eceed",
            "34e5da25627c484d8faa7cb0635ca63c",
            "436d50910ab94160967e3b74c64e7e30"
          ]
        },
        "id": "MGanbvVedrjL",
        "outputId": "e837089a-8d0a-484c-dd68-392627ef1074"
      },
      "outputs": [
        {
          "data": {
            "application/vnd.jupyter.widget-view+json": {
              "model_id": "1cc647381126449b8c03ce81830e4dd2",
              "version_major": 2,
              "version_minor": 0
            },
            "text/plain": [
              "Dropdown(description='🎮 Genre:', layout=Layout(width='50%'), options=('Action', 'Adventure', 'Fighting', 'Misc…"
            ]
          },
          "metadata": {},
          "output_type": "display_data"
        },
        {
          "data": {
            "application/vnd.jupyter.widget-view+json": {
              "model_id": "596f32e9a1e841f68448665fdf27e15e",
              "version_major": 2,
              "version_minor": 0
            },
            "text/plain": [
              "HBox(children=(Button(description='◀️ Previous', style=ButtonStyle()), Button(description='Next ▶️', style=But…"
            ]
          },
          "metadata": {},
          "output_type": "display_data"
        },
        {
          "data": {
            "application/vnd.jupyter.widget-view+json": {
              "model_id": "34e5da25627c484d8faa7cb0635ca63c",
              "version_major": 2,
              "version_minor": 0
            },
            "text/plain": [
              "Output()"
            ]
          },
          "metadata": {},
          "output_type": "display_data"
        }
      ],
      "source": [
        "get_available_games_by_genre_paginated(df_cb, df_cf)"
      ]
    },
    {
      "cell_type": "markdown",
      "metadata": {
        "id": "UrE3WfCIQu-C"
      },
      "source": [
        "**System Recommendation Test**\n",
        "\n",
        "Akan meminta untuk memasukkan judul game untuk mendapatkan rekomendasi dari kedua sistem, yaitu Content-Based Filtering (CBF) dan Collaborative Filtering (CF)."
      ]
    },
    {
      "cell_type": "code",
      "execution_count": 212,
      "metadata": {
        "colab": {
          "base_uri": "https://localhost:8080/",
          "height": 370
        },
        "id": "KbR3gONsjQTb",
        "outputId": "11b4eeef-d9cf-4edc-9fd8-179a8c58dcb6"
      },
      "outputs": [
        {
          "name": "stdout",
          "output_type": "stream",
          "text": [
            "Masukkan judul game yang Anda sukai (CBF): Grand Theft Auto V\n",
            "\n",
            "📌 Rekomendasi game mirip dengan 'Grand Theft Auto V' (CBF):\n",
            "\n"
          ]
        },
        {
          "data": {
            "application/vnd.google.colaboratory.intrinsic+json": {
              "summary": "{\n  \"name\": \"run_cbf_recommendation(df_cb=df_cb, cosine_sim=cosine_sim_combined, indices=indices)\",\n  \"rows\": 8,\n  \"fields\": [\n    {\n      \"column\": \"Name\",\n      \"properties\": {\n        \"dtype\": \"string\",\n        \"num_unique_values\": 8,\n        \"samples\": [\n          \"Mafia II\",\n          \"Grand Theft Auto V\",\n          \"Grand Theft Auto IV\"\n        ],\n        \"semantic_type\": \"\",\n        \"description\": \"\"\n      }\n    },\n    {\n      \"column\": \"User_Score\",\n      \"properties\": {\n        \"dtype\": \"number\",\n        \"std\": 0.461170870099762,\n        \"min\": 7.4,\n        \"max\": 8.8,\n        \"num_unique_values\": 7,\n        \"samples\": [\n          7.5,\n          7.7,\n          7.4\n        ],\n        \"semantic_type\": \"\",\n        \"description\": \"\"\n      }\n    }\n  ]\n}",
              "type": "dataframe"
            },
            "text/html": [
              "\n",
              "  <div id=\"df-ce106128-a102-458c-928e-929afb24d716\" class=\"colab-df-container\">\n",
              "    <div>\n",
              "<style scoped>\n",
              "    .dataframe tbody tr th:only-of-type {\n",
              "        vertical-align: middle;\n",
              "    }\n",
              "\n",
              "    .dataframe tbody tr th {\n",
              "        vertical-align: top;\n",
              "    }\n",
              "\n",
              "    .dataframe thead th {\n",
              "        text-align: right;\n",
              "    }\n",
              "</style>\n",
              "<table border=\"1\" class=\"dataframe\">\n",
              "  <thead>\n",
              "    <tr style=\"text-align: right;\">\n",
              "      <th></th>\n",
              "      <th>Name</th>\n",
              "      <th>User_Score</th>\n",
              "    </tr>\n",
              "  </thead>\n",
              "  <tbody>\n",
              "    <tr>\n",
              "      <th>0</th>\n",
              "      <td>Grand Theft Auto IV</td>\n",
              "      <td>7.5</td>\n",
              "    </tr>\n",
              "    <tr>\n",
              "      <th>1</th>\n",
              "      <td>Mafia II</td>\n",
              "      <td>7.7</td>\n",
              "    </tr>\n",
              "    <tr>\n",
              "      <th>2</th>\n",
              "      <td>NBA 2K11</td>\n",
              "      <td>7.6</td>\n",
              "    </tr>\n",
              "    <tr>\n",
              "      <th>3</th>\n",
              "      <td>Red Dead Redemption</td>\n",
              "      <td>8.8</td>\n",
              "    </tr>\n",
              "    <tr>\n",
              "      <th>4</th>\n",
              "      <td>Top Spin 3</td>\n",
              "      <td>7.5</td>\n",
              "    </tr>\n",
              "    <tr>\n",
              "      <th>5</th>\n",
              "      <td>Grand Theft Auto V</td>\n",
              "      <td>8.1</td>\n",
              "    </tr>\n",
              "    <tr>\n",
              "      <th>6</th>\n",
              "      <td>Red Dead Redemption: Undead Nightmare</td>\n",
              "      <td>7.4</td>\n",
              "    </tr>\n",
              "    <tr>\n",
              "      <th>7</th>\n",
              "      <td>Way of the Samurai 3</td>\n",
              "      <td>7.9</td>\n",
              "    </tr>\n",
              "  </tbody>\n",
              "</table>\n",
              "</div>\n",
              "    <div class=\"colab-df-buttons\">\n",
              "\n",
              "  <div class=\"colab-df-container\">\n",
              "    <button class=\"colab-df-convert\" onclick=\"convertToInteractive('df-ce106128-a102-458c-928e-929afb24d716')\"\n",
              "            title=\"Convert this dataframe to an interactive table.\"\n",
              "            style=\"display:none;\">\n",
              "\n",
              "  <svg xmlns=\"http://www.w3.org/2000/svg\" height=\"24px\" viewBox=\"0 -960 960 960\">\n",
              "    <path d=\"M120-120v-720h720v720H120Zm60-500h600v-160H180v160Zm220 220h160v-160H400v160Zm0 220h160v-160H400v160ZM180-400h160v-160H180v160Zm440 0h160v-160H620v160ZM180-180h160v-160H180v160Zm440 0h160v-160H620v160Z\"/>\n",
              "  </svg>\n",
              "    </button>\n",
              "\n",
              "  <style>\n",
              "    .colab-df-container {\n",
              "      display:flex;\n",
              "      gap: 12px;\n",
              "    }\n",
              "\n",
              "    .colab-df-convert {\n",
              "      background-color: #E8F0FE;\n",
              "      border: none;\n",
              "      border-radius: 50%;\n",
              "      cursor: pointer;\n",
              "      display: none;\n",
              "      fill: #1967D2;\n",
              "      height: 32px;\n",
              "      padding: 0 0 0 0;\n",
              "      width: 32px;\n",
              "    }\n",
              "\n",
              "    .colab-df-convert:hover {\n",
              "      background-color: #E2EBFA;\n",
              "      box-shadow: 0px 1px 2px rgba(60, 64, 67, 0.3), 0px 1px 3px 1px rgba(60, 64, 67, 0.15);\n",
              "      fill: #174EA6;\n",
              "    }\n",
              "\n",
              "    .colab-df-buttons div {\n",
              "      margin-bottom: 4px;\n",
              "    }\n",
              "\n",
              "    [theme=dark] .colab-df-convert {\n",
              "      background-color: #3B4455;\n",
              "      fill: #D2E3FC;\n",
              "    }\n",
              "\n",
              "    [theme=dark] .colab-df-convert:hover {\n",
              "      background-color: #434B5C;\n",
              "      box-shadow: 0px 1px 3px 1px rgba(0, 0, 0, 0.15);\n",
              "      filter: drop-shadow(0px 1px 2px rgba(0, 0, 0, 0.3));\n",
              "      fill: #FFFFFF;\n",
              "    }\n",
              "  </style>\n",
              "\n",
              "    <script>\n",
              "      const buttonEl =\n",
              "        document.querySelector('#df-ce106128-a102-458c-928e-929afb24d716 button.colab-df-convert');\n",
              "      buttonEl.style.display =\n",
              "        google.colab.kernel.accessAllowed ? 'block' : 'none';\n",
              "\n",
              "      async function convertToInteractive(key) {\n",
              "        const element = document.querySelector('#df-ce106128-a102-458c-928e-929afb24d716');\n",
              "        const dataTable =\n",
              "          await google.colab.kernel.invokeFunction('convertToInteractive',\n",
              "                                                    [key], {});\n",
              "        if (!dataTable) return;\n",
              "\n",
              "        const docLinkHtml = 'Like what you see? Visit the ' +\n",
              "          '<a target=\"_blank\" href=https://colab.research.google.com/notebooks/data_table.ipynb>data table notebook</a>'\n",
              "          + ' to learn more about interactive tables.';\n",
              "        element.innerHTML = '';\n",
              "        dataTable['output_type'] = 'display_data';\n",
              "        await google.colab.output.renderOutput(dataTable, element);\n",
              "        const docLink = document.createElement('div');\n",
              "        docLink.innerHTML = docLinkHtml;\n",
              "        element.appendChild(docLink);\n",
              "      }\n",
              "    </script>\n",
              "  </div>\n",
              "\n",
              "\n",
              "    <div id=\"df-7bf5b3f1-497a-4b66-b9c8-42d4ea8efb03\">\n",
              "      <button class=\"colab-df-quickchart\" onclick=\"quickchart('df-7bf5b3f1-497a-4b66-b9c8-42d4ea8efb03')\"\n",
              "                title=\"Suggest charts\"\n",
              "                style=\"display:none;\">\n",
              "\n",
              "<svg xmlns=\"http://www.w3.org/2000/svg\" height=\"24px\"viewBox=\"0 0 24 24\"\n",
              "     width=\"24px\">\n",
              "    <g>\n",
              "        <path d=\"M19 3H5c-1.1 0-2 .9-2 2v14c0 1.1.9 2 2 2h14c1.1 0 2-.9 2-2V5c0-1.1-.9-2-2-2zM9 17H7v-7h2v7zm4 0h-2V7h2v10zm4 0h-2v-4h2v4z\"/>\n",
              "    </g>\n",
              "</svg>\n",
              "      </button>\n",
              "\n",
              "<style>\n",
              "  .colab-df-quickchart {\n",
              "      --bg-color: #E8F0FE;\n",
              "      --fill-color: #1967D2;\n",
              "      --hover-bg-color: #E2EBFA;\n",
              "      --hover-fill-color: #174EA6;\n",
              "      --disabled-fill-color: #AAA;\n",
              "      --disabled-bg-color: #DDD;\n",
              "  }\n",
              "\n",
              "  [theme=dark] .colab-df-quickchart {\n",
              "      --bg-color: #3B4455;\n",
              "      --fill-color: #D2E3FC;\n",
              "      --hover-bg-color: #434B5C;\n",
              "      --hover-fill-color: #FFFFFF;\n",
              "      --disabled-bg-color: #3B4455;\n",
              "      --disabled-fill-color: #666;\n",
              "  }\n",
              "\n",
              "  .colab-df-quickchart {\n",
              "    background-color: var(--bg-color);\n",
              "    border: none;\n",
              "    border-radius: 50%;\n",
              "    cursor: pointer;\n",
              "    display: none;\n",
              "    fill: var(--fill-color);\n",
              "    height: 32px;\n",
              "    padding: 0;\n",
              "    width: 32px;\n",
              "  }\n",
              "\n",
              "  .colab-df-quickchart:hover {\n",
              "    background-color: var(--hover-bg-color);\n",
              "    box-shadow: 0 1px 2px rgba(60, 64, 67, 0.3), 0 1px 3px 1px rgba(60, 64, 67, 0.15);\n",
              "    fill: var(--button-hover-fill-color);\n",
              "  }\n",
              "\n",
              "  .colab-df-quickchart-complete:disabled,\n",
              "  .colab-df-quickchart-complete:disabled:hover {\n",
              "    background-color: var(--disabled-bg-color);\n",
              "    fill: var(--disabled-fill-color);\n",
              "    box-shadow: none;\n",
              "  }\n",
              "\n",
              "  .colab-df-spinner {\n",
              "    border: 2px solid var(--fill-color);\n",
              "    border-color: transparent;\n",
              "    border-bottom-color: var(--fill-color);\n",
              "    animation:\n",
              "      spin 1s steps(1) infinite;\n",
              "  }\n",
              "\n",
              "  @keyframes spin {\n",
              "    0% {\n",
              "      border-color: transparent;\n",
              "      border-bottom-color: var(--fill-color);\n",
              "      border-left-color: var(--fill-color);\n",
              "    }\n",
              "    20% {\n",
              "      border-color: transparent;\n",
              "      border-left-color: var(--fill-color);\n",
              "      border-top-color: var(--fill-color);\n",
              "    }\n",
              "    30% {\n",
              "      border-color: transparent;\n",
              "      border-left-color: var(--fill-color);\n",
              "      border-top-color: var(--fill-color);\n",
              "      border-right-color: var(--fill-color);\n",
              "    }\n",
              "    40% {\n",
              "      border-color: transparent;\n",
              "      border-right-color: var(--fill-color);\n",
              "      border-top-color: var(--fill-color);\n",
              "    }\n",
              "    60% {\n",
              "      border-color: transparent;\n",
              "      border-right-color: var(--fill-color);\n",
              "    }\n",
              "    80% {\n",
              "      border-color: transparent;\n",
              "      border-right-color: var(--fill-color);\n",
              "      border-bottom-color: var(--fill-color);\n",
              "    }\n",
              "    90% {\n",
              "      border-color: transparent;\n",
              "      border-bottom-color: var(--fill-color);\n",
              "    }\n",
              "  }\n",
              "</style>\n",
              "\n",
              "      <script>\n",
              "        async function quickchart(key) {\n",
              "          const quickchartButtonEl =\n",
              "            document.querySelector('#' + key + ' button');\n",
              "          quickchartButtonEl.disabled = true;  // To prevent multiple clicks.\n",
              "          quickchartButtonEl.classList.add('colab-df-spinner');\n",
              "          try {\n",
              "            const charts = await google.colab.kernel.invokeFunction(\n",
              "                'suggestCharts', [key], {});\n",
              "          } catch (error) {\n",
              "            console.error('Error during call to suggestCharts:', error);\n",
              "          }\n",
              "          quickchartButtonEl.classList.remove('colab-df-spinner');\n",
              "          quickchartButtonEl.classList.add('colab-df-quickchart-complete');\n",
              "        }\n",
              "        (() => {\n",
              "          let quickchartButtonEl =\n",
              "            document.querySelector('#df-7bf5b3f1-497a-4b66-b9c8-42d4ea8efb03 button');\n",
              "          quickchartButtonEl.style.display =\n",
              "            google.colab.kernel.accessAllowed ? 'block' : 'none';\n",
              "        })();\n",
              "      </script>\n",
              "    </div>\n",
              "\n",
              "    </div>\n",
              "  </div>\n"
            ],
            "text/plain": [
              "                                    Name  User_Score\n",
              "0                    Grand Theft Auto IV         7.5\n",
              "1                               Mafia II         7.7\n",
              "2                               NBA 2K11         7.6\n",
              "3                    Red Dead Redemption         8.8\n",
              "4                             Top Spin 3         7.5\n",
              "5                     Grand Theft Auto V         8.1\n",
              "6  Red Dead Redemption: Undead Nightmare         7.4\n",
              "7                   Way of the Samurai 3         7.9"
            ]
          },
          "execution_count": 212,
          "metadata": {},
          "output_type": "execute_result"
        }
      ],
      "source": [
        "run_cbf_recommendation(df_cb=df_cb, cosine_sim=cosine_sim_combined, indices=indices)"
      ]
    },
    {
      "cell_type": "code",
      "execution_count": 213,
      "metadata": {
        "colab": {
          "base_uri": "https://localhost:8080/",
          "height": 276
        },
        "id": "exvq3qk8jYls",
        "outputId": "9114d812-9b15-4302-d9f0-b2097f97aaae"
      },
      "outputs": [
        {
          "name": "stdout",
          "output_type": "stream",
          "text": [
            "Masukkan judul game yang Anda sukai (CF): Grand Theft Auto V\n",
            "\n",
            "📌 Rekomendasi berdasarkan preferensi user untuk 'Grand Theft Auto V' (CF):\n",
            "\n"
          ]
        },
        {
          "data": {
            "application/vnd.google.colaboratory.intrinsic+json": {
              "summary": "{\n  \"name\": \"run_cf_recommendation(model, lfm_dataset, df_cf, k=5)\",\n  \"rows\": 5,\n  \"fields\": [\n    {\n      \"column\": \"Name\",\n      \"properties\": {\n        \"dtype\": \"string\",\n        \"num_unique_values\": 5,\n        \"samples\": [\n          \"Plants vs. Zombies: Garden Warfare\",\n          \"Tony Hawk's Pro Skater 3\",\n          \"The Lord of the Rings: Conquest\"\n        ],\n        \"semantic_type\": \"\",\n        \"description\": \"\"\n      }\n    },\n    {\n      \"column\": \"User_Score\",\n      \"properties\": {\n        \"dtype\": \"number\",\n        \"std\": 0.4969909455915673,\n        \"min\": 7.1,\n        \"max\": 8.4,\n        \"num_unique_values\": 5,\n        \"samples\": [\n          7.3,\n          7.5,\n          7.1\n        ],\n        \"semantic_type\": \"\",\n        \"description\": \"\"\n      }\n    }\n  ]\n}",
              "type": "dataframe"
            },
            "text/html": [
              "\n",
              "  <div id=\"df-ca08c5f4-3fe0-4213-b1f8-797dc9dbb6f3\" class=\"colab-df-container\">\n",
              "    <div>\n",
              "<style scoped>\n",
              "    .dataframe tbody tr th:only-of-type {\n",
              "        vertical-align: middle;\n",
              "    }\n",
              "\n",
              "    .dataframe tbody tr th {\n",
              "        vertical-align: top;\n",
              "    }\n",
              "\n",
              "    .dataframe thead th {\n",
              "        text-align: right;\n",
              "    }\n",
              "</style>\n",
              "<table border=\"1\" class=\"dataframe\">\n",
              "  <thead>\n",
              "    <tr style=\"text-align: right;\">\n",
              "      <th></th>\n",
              "      <th>Name</th>\n",
              "      <th>User_Score</th>\n",
              "    </tr>\n",
              "  </thead>\n",
              "  <tbody>\n",
              "    <tr>\n",
              "      <th>0</th>\n",
              "      <td>NBA 2K7</td>\n",
              "      <td>8.4</td>\n",
              "    </tr>\n",
              "    <tr>\n",
              "      <th>1</th>\n",
              "      <td>Plants vs. Zombies: Garden Warfare</td>\n",
              "      <td>7.3</td>\n",
              "    </tr>\n",
              "    <tr>\n",
              "      <th>2</th>\n",
              "      <td>The Lord of the Rings: Conquest</td>\n",
              "      <td>7.1</td>\n",
              "    </tr>\n",
              "    <tr>\n",
              "      <th>3</th>\n",
              "      <td>FIFA Soccer 10</td>\n",
              "      <td>7.6</td>\n",
              "    </tr>\n",
              "    <tr>\n",
              "      <th>4</th>\n",
              "      <td>Tony Hawk's Pro Skater 3</td>\n",
              "      <td>7.5</td>\n",
              "    </tr>\n",
              "  </tbody>\n",
              "</table>\n",
              "</div>\n",
              "    <div class=\"colab-df-buttons\">\n",
              "\n",
              "  <div class=\"colab-df-container\">\n",
              "    <button class=\"colab-df-convert\" onclick=\"convertToInteractive('df-ca08c5f4-3fe0-4213-b1f8-797dc9dbb6f3')\"\n",
              "            title=\"Convert this dataframe to an interactive table.\"\n",
              "            style=\"display:none;\">\n",
              "\n",
              "  <svg xmlns=\"http://www.w3.org/2000/svg\" height=\"24px\" viewBox=\"0 -960 960 960\">\n",
              "    <path d=\"M120-120v-720h720v720H120Zm60-500h600v-160H180v160Zm220 220h160v-160H400v160Zm0 220h160v-160H400v160ZM180-400h160v-160H180v160Zm440 0h160v-160H620v160ZM180-180h160v-160H180v160Zm440 0h160v-160H620v160Z\"/>\n",
              "  </svg>\n",
              "    </button>\n",
              "\n",
              "  <style>\n",
              "    .colab-df-container {\n",
              "      display:flex;\n",
              "      gap: 12px;\n",
              "    }\n",
              "\n",
              "    .colab-df-convert {\n",
              "      background-color: #E8F0FE;\n",
              "      border: none;\n",
              "      border-radius: 50%;\n",
              "      cursor: pointer;\n",
              "      display: none;\n",
              "      fill: #1967D2;\n",
              "      height: 32px;\n",
              "      padding: 0 0 0 0;\n",
              "      width: 32px;\n",
              "    }\n",
              "\n",
              "    .colab-df-convert:hover {\n",
              "      background-color: #E2EBFA;\n",
              "      box-shadow: 0px 1px 2px rgba(60, 64, 67, 0.3), 0px 1px 3px 1px rgba(60, 64, 67, 0.15);\n",
              "      fill: #174EA6;\n",
              "    }\n",
              "\n",
              "    .colab-df-buttons div {\n",
              "      margin-bottom: 4px;\n",
              "    }\n",
              "\n",
              "    [theme=dark] .colab-df-convert {\n",
              "      background-color: #3B4455;\n",
              "      fill: #D2E3FC;\n",
              "    }\n",
              "\n",
              "    [theme=dark] .colab-df-convert:hover {\n",
              "      background-color: #434B5C;\n",
              "      box-shadow: 0px 1px 3px 1px rgba(0, 0, 0, 0.15);\n",
              "      filter: drop-shadow(0px 1px 2px rgba(0, 0, 0, 0.3));\n",
              "      fill: #FFFFFF;\n",
              "    }\n",
              "  </style>\n",
              "\n",
              "    <script>\n",
              "      const buttonEl =\n",
              "        document.querySelector('#df-ca08c5f4-3fe0-4213-b1f8-797dc9dbb6f3 button.colab-df-convert');\n",
              "      buttonEl.style.display =\n",
              "        google.colab.kernel.accessAllowed ? 'block' : 'none';\n",
              "\n",
              "      async function convertToInteractive(key) {\n",
              "        const element = document.querySelector('#df-ca08c5f4-3fe0-4213-b1f8-797dc9dbb6f3');\n",
              "        const dataTable =\n",
              "          await google.colab.kernel.invokeFunction('convertToInteractive',\n",
              "                                                    [key], {});\n",
              "        if (!dataTable) return;\n",
              "\n",
              "        const docLinkHtml = 'Like what you see? Visit the ' +\n",
              "          '<a target=\"_blank\" href=https://colab.research.google.com/notebooks/data_table.ipynb>data table notebook</a>'\n",
              "          + ' to learn more about interactive tables.';\n",
              "        element.innerHTML = '';\n",
              "        dataTable['output_type'] = 'display_data';\n",
              "        await google.colab.output.renderOutput(dataTable, element);\n",
              "        const docLink = document.createElement('div');\n",
              "        docLink.innerHTML = docLinkHtml;\n",
              "        element.appendChild(docLink);\n",
              "      }\n",
              "    </script>\n",
              "  </div>\n",
              "\n",
              "\n",
              "    <div id=\"df-975710a1-d947-4c9b-bfc7-b77056972825\">\n",
              "      <button class=\"colab-df-quickchart\" onclick=\"quickchart('df-975710a1-d947-4c9b-bfc7-b77056972825')\"\n",
              "                title=\"Suggest charts\"\n",
              "                style=\"display:none;\">\n",
              "\n",
              "<svg xmlns=\"http://www.w3.org/2000/svg\" height=\"24px\"viewBox=\"0 0 24 24\"\n",
              "     width=\"24px\">\n",
              "    <g>\n",
              "        <path d=\"M19 3H5c-1.1 0-2 .9-2 2v14c0 1.1.9 2 2 2h14c1.1 0 2-.9 2-2V5c0-1.1-.9-2-2-2zM9 17H7v-7h2v7zm4 0h-2V7h2v10zm4 0h-2v-4h2v4z\"/>\n",
              "    </g>\n",
              "</svg>\n",
              "      </button>\n",
              "\n",
              "<style>\n",
              "  .colab-df-quickchart {\n",
              "      --bg-color: #E8F0FE;\n",
              "      --fill-color: #1967D2;\n",
              "      --hover-bg-color: #E2EBFA;\n",
              "      --hover-fill-color: #174EA6;\n",
              "      --disabled-fill-color: #AAA;\n",
              "      --disabled-bg-color: #DDD;\n",
              "  }\n",
              "\n",
              "  [theme=dark] .colab-df-quickchart {\n",
              "      --bg-color: #3B4455;\n",
              "      --fill-color: #D2E3FC;\n",
              "      --hover-bg-color: #434B5C;\n",
              "      --hover-fill-color: #FFFFFF;\n",
              "      --disabled-bg-color: #3B4455;\n",
              "      --disabled-fill-color: #666;\n",
              "  }\n",
              "\n",
              "  .colab-df-quickchart {\n",
              "    background-color: var(--bg-color);\n",
              "    border: none;\n",
              "    border-radius: 50%;\n",
              "    cursor: pointer;\n",
              "    display: none;\n",
              "    fill: var(--fill-color);\n",
              "    height: 32px;\n",
              "    padding: 0;\n",
              "    width: 32px;\n",
              "  }\n",
              "\n",
              "  .colab-df-quickchart:hover {\n",
              "    background-color: var(--hover-bg-color);\n",
              "    box-shadow: 0 1px 2px rgba(60, 64, 67, 0.3), 0 1px 3px 1px rgba(60, 64, 67, 0.15);\n",
              "    fill: var(--button-hover-fill-color);\n",
              "  }\n",
              "\n",
              "  .colab-df-quickchart-complete:disabled,\n",
              "  .colab-df-quickchart-complete:disabled:hover {\n",
              "    background-color: var(--disabled-bg-color);\n",
              "    fill: var(--disabled-fill-color);\n",
              "    box-shadow: none;\n",
              "  }\n",
              "\n",
              "  .colab-df-spinner {\n",
              "    border: 2px solid var(--fill-color);\n",
              "    border-color: transparent;\n",
              "    border-bottom-color: var(--fill-color);\n",
              "    animation:\n",
              "      spin 1s steps(1) infinite;\n",
              "  }\n",
              "\n",
              "  @keyframes spin {\n",
              "    0% {\n",
              "      border-color: transparent;\n",
              "      border-bottom-color: var(--fill-color);\n",
              "      border-left-color: var(--fill-color);\n",
              "    }\n",
              "    20% {\n",
              "      border-color: transparent;\n",
              "      border-left-color: var(--fill-color);\n",
              "      border-top-color: var(--fill-color);\n",
              "    }\n",
              "    30% {\n",
              "      border-color: transparent;\n",
              "      border-left-color: var(--fill-color);\n",
              "      border-top-color: var(--fill-color);\n",
              "      border-right-color: var(--fill-color);\n",
              "    }\n",
              "    40% {\n",
              "      border-color: transparent;\n",
              "      border-right-color: var(--fill-color);\n",
              "      border-top-color: var(--fill-color);\n",
              "    }\n",
              "    60% {\n",
              "      border-color: transparent;\n",
              "      border-right-color: var(--fill-color);\n",
              "    }\n",
              "    80% {\n",
              "      border-color: transparent;\n",
              "      border-right-color: var(--fill-color);\n",
              "      border-bottom-color: var(--fill-color);\n",
              "    }\n",
              "    90% {\n",
              "      border-color: transparent;\n",
              "      border-bottom-color: var(--fill-color);\n",
              "    }\n",
              "  }\n",
              "</style>\n",
              "\n",
              "      <script>\n",
              "        async function quickchart(key) {\n",
              "          const quickchartButtonEl =\n",
              "            document.querySelector('#' + key + ' button');\n",
              "          quickchartButtonEl.disabled = true;  // To prevent multiple clicks.\n",
              "          quickchartButtonEl.classList.add('colab-df-spinner');\n",
              "          try {\n",
              "            const charts = await google.colab.kernel.invokeFunction(\n",
              "                'suggestCharts', [key], {});\n",
              "          } catch (error) {\n",
              "            console.error('Error during call to suggestCharts:', error);\n",
              "          }\n",
              "          quickchartButtonEl.classList.remove('colab-df-spinner');\n",
              "          quickchartButtonEl.classList.add('colab-df-quickchart-complete');\n",
              "        }\n",
              "        (() => {\n",
              "          let quickchartButtonEl =\n",
              "            document.querySelector('#df-975710a1-d947-4c9b-bfc7-b77056972825 button');\n",
              "          quickchartButtonEl.style.display =\n",
              "            google.colab.kernel.accessAllowed ? 'block' : 'none';\n",
              "        })();\n",
              "      </script>\n",
              "    </div>\n",
              "\n",
              "    </div>\n",
              "  </div>\n"
            ],
            "text/plain": [
              "                                 Name  User_Score\n",
              "0                             NBA 2K7         8.4\n",
              "1  Plants vs. Zombies: Garden Warfare         7.3\n",
              "2     The Lord of the Rings: Conquest         7.1\n",
              "3                      FIFA Soccer 10         7.6\n",
              "4            Tony Hawk's Pro Skater 3         7.5"
            ]
          },
          "execution_count": 213,
          "metadata": {},
          "output_type": "execute_result"
        }
      ],
      "source": [
        "run_cf_recommendation(model, lfm_dataset, df_cf, k=5)"
      ]
    },
    {
      "cell_type": "markdown",
      "metadata": {
        "id": "jcaA-Q2Tah3N"
      },
      "source": [
        "**Catatan**:\n",
        "\n",
        "Bisa terjadi sebuah kondisi judul game yang dimasukan tidak ditemukan karena memang tidak ada pada dataest yang digunakan atau juga karena hanya game yang memiliki interaksi (user_id sintetis) dan metadata lengkap yang masuk ke dalam pemodelan."
      ]
    },
    {
      "cell_type": "markdown",
      "metadata": {
        "id": "8TBK8PTkSPRZ"
      },
      "source": [
        "# **6. Evaluation**\n",
        "\n",
        "## Evaluasi Model Rekomendasi Game\n",
        "\n",
        "### A. Metrik Evaluasi yang Digunakan\n",
        "\n",
        "Dalam proyek ini, untuk mengukur kinerja sistem rekomendasi, digunakan dua metrik utama:\n",
        "\n",
        "#### Precision@k\n",
        "\n",
        "Precision@k mengukur proporsi rekomendasi yang relevan di antara k item teratas yang direkomendasikan.\n",
        "**Formula:**\n",
        "\n",
        "$$\n",
        "\\text{Precision@k} = \\frac{\\text{Jumlah item relevan dalam top k rekomendasi}}{k}\n",
        "$$\n",
        "\n",
        "Precision tinggi berarti sistem dapat memberikan rekomendasi yang sesuai dengan preferensi pengguna.\n",
        "\n",
        "#### Recall@k\n",
        "\n",
        "Recall@k mengukur proporsi item relevan yang berhasil direkomendasikan dari semua item relevan yang ada.\n",
        "**Formula:**\n",
        "\n",
        "$$\n",
        "\\text{Recall@k} = \\frac{\\text{Jumlah item relevan dalam top k rekomendasi}}{\\text{Total item relevan yang tersedia}}\n",
        "$$\n",
        "\n",
        "Recall tinggi berarti sistem mampu menemukan sebagian besar item relevan untuk pengguna.\n",
        "\n",
        "---\n",
        "\n",
        "### B. Hasil Evaluasi\n",
        "\n",
        "| Model                   | Precision@5 | Recall@5 |\n",
        "| ----------------------- | ------------ | --------- |\n",
        "| Content-Based Filtering | 0.7436       | 0.2914    |\n",
        "| Collaborative Filtering | 0.2384       | 0.1267    |\n",
        "\n",
        "#### Interpretasi Hasil:\n",
        "\n",
        "* **Content-Based Filtering** menunjukkan performa yang **sangat kuat**, dengan **Precision@5 sebesar 74.36%** dan **Recall@5 sebesar 29.14%**. Ini membuktikan bahwa model sangat akurat dalam menemukan game yang secara kontekstual mirip (berdasarkan Genre dan Publisher). Pendekatan ini efektif untuk merekomendasikan item dengan karakteristik yang sama persis.\n",
        "\n",
        "* **Collaborative Filtering (dengan data user sintetis)** menghasilkan **Precision@5 sebesar 23.84%** dan **Recall@5 sebesar 12.67%**. Meskipun secara angka lebih rendah dari CBF, hasil ini menunjukkan bahwa model **cukup mampu menangkap pola preferensi kolektif** antar pengguna. Performa ini wajar mengingat data pengguna yang digunakan adalah hasil simulasi. Pendekatan ini berpotensi memberikan rekomendasi yang lebih personal dan beragam jika dilatih dengan data interaksi yang nyata."
      ]
    },
    {
      "cell_type": "markdown",
      "metadata": {
        "id": "wBGt6eJaWJ7o"
      },
      "source": [
        "## C. Visualisasi Evaluasi\n",
        "\n",
        "Berikut contoh visualisasi perbandingan metrik Precision\\@5 dan Recall\\@5 kedua model:"
      ]
    },
    {
      "cell_type": "code",
      "execution_count": 215,
      "metadata": {
        "colab": {
          "base_uri": "https://localhost:8080/",
          "height": 545
        },
        "id": "pTlbYJohW2bq",
        "outputId": "d364188c-e3fe-4fb5-d7e3-d26c33226fd7"
      },
      "outputs": [
        {
          "data": {
            "image/png": "[encoded data removed]",
            "text/plain": [
              "<Figure size 1000x600 with 1 Axes>"
            ]
          },
          "metadata": {},
          "output_type": "display_data"
        }
      ],
      "source": [
        "models = ['Content-Based Filtering', 'Collaborative Filtering']\n",
        "precision = [0.7436, 0.2384]\n",
        "recall = [0.2914, 0.1267]\n",
        "\n",
        "x = np.arange(len(models))\n",
        "\n",
        "plt.figure(figsize=(10, 6))\n",
        "plt.bar(x - 0.2, precision, width=0.4, label='Precision@5', align='center', color='skyblue')\n",
        "plt.bar(x + 0.2, recall, width=0.4, label='Recall@5', align='center', color='lightgreen')\n",
        "\n",
        "for i in range(len(models)):\n",
        "    plt.text(i - 0.2, precision[i] + 0.01, f'{precision[i]:.4f}', ha='center', color='black')\n",
        "    plt.text(i + 0.2, recall[i] + 0.01, f'{recall[i]:.4f}', ha='center', color='black')\n",
        "\n",
        "plt.xticks(x, models)\n",
        "plt.ylabel('Score')\n",
        "plt.title('Perbandingan Precision@5 dan Recall@5 untuk Model Rekomendasi')\n",
        "plt.legend()\n",
        "plt.ylim(0, 0.85)\n",
        "\n",
        "plt.grid(axis='y', linestyle='--', alpha=0.7)\n",
        "plt.show()"
      ]
    },
    {
      "cell_type": "markdown",
      "metadata": {
        "id": "SHCt-jcdW6d9"
      },
      "source": [
        "**Collaborative Filtering secara signifikan lebih baik dalam metrik evaluasi dibanding Content-Based Filtering.**"
      ]
    },
    {
      "cell_type": "markdown",
      "metadata": {
        "id": "6CaTosC5SPPI"
      },
      "source": [
        "# **7. Project Summary and Results**\n",
        "\n",
        "**Ringkasan Tahapan Proyek:**\n",
        "\n",
        "1. **Eksplorasi Data (EDA)**\n",
        "   Memahami struktur dataset video game, mengidentifikasi missing value, distribusi data, dan kolom penting.\n",
        "\n",
        "2. **Preprocessing Data**\n",
        "   * Menangani missing values dengan drop kolom dan baris yang kurang lengkap.\n",
        "   * Konversi tipe data dan filtering berdasarkan User_Score.\n",
        "   * Membuat dataset baru dengan user_id sintetis untuk Collaborative Filtering.\n",
        "\n",
        "3. **Modeling**\n",
        "   * Content-Based Filtering menggunakan TF-IDF dan cosine similarity dari metadata game.\n",
        "   * Collaborative Filtering menggunakan model LightFM dengan loss WARP dan interaksi user-item berbobot.\n",
        "\n",
        "4. **Evaluasi Model**\n",
        "   Menghitung Precision@5 dan Recall@5 untuk kedua pendekatan.\n",
        "\n",
        "---\n",
        "\n",
        "**Kesimpulan Akhir Evaluasi:**\n",
        "\n",
        "Berdasarkan hasil evaluasi, kedua model menunjukkan kekuatan yang berbeda:\n",
        "\n",
        "* **Content-Based Filtering sangat unggul dalam akurasi berbasis fitur (Precision@5 74.36%)**. Ini membuktikan bahwa model ini sangat efektif dalam menemukan game yang memiliki feature (Genre dan Publisher) yang sama. Pendekatan ini ideal untuk merekomendasikan game yang \"lebih dari yang sama\" kepada pengguna.\n",
        "\n",
        "* **Collaborative Filtering, meskipun memiliki metrik lebih rendah (Precision@5 23.84%)**, menunjukkan potensi dalam menangkap pola selera kolektif, bahkan dengan data pengguna sintetis. Kekuatannya terletak pada kemampuannya untuk memberikan rekomendasi yang lebih beragam dan personal, yang tidak hanya terbatas pada kemiripan fitur eksplisit. Model ini lebih cocok digunakan pada dataset yang memiliki feature user_ID.\n",
        "\n",
        "Tidak ada satu model yang \"lebih baik\" secara mutlak; keduanya melayani tujuan yang berbeda. CBF lebih presisi untuk kemiripan konten, sementara CF lebih berpotensi untuk penemuan game baru yang sesuai selera.\n",
        "\n",
        "---\n",
        "\n",
        "**Potensi Perbaikan dan Pengembangan Selanjutnya:**\n",
        "\n",
        "1. **Implementasi Validasi yang Lebih Kuat**\n",
        "   Gunakan **train-test split** untuk mengevaluasi model pada data yang belum pernah dilihat, sehingga memberikan gambaran performa yang lebih akurat dan dapat diandalkan.\n",
        "\n",
        "2. **Peningkatan Data User**\n",
        "   Gunakan data interaksi pengguna asli (rating, review, waktu bermain) untuk Collaborative Filtering agar hasil lebih realistis dan personal.\n",
        "\n",
        "3. **Pengayaan Fitur Content-Based**\n",
        "   Tambahkan fitur lain seperti deskripsi game, tags, atau ulasan teks pengguna untuk memperkaya representasi metadata dan menangkap nuansa yang lebih halus.\n",
        "\n",
        "4. **Hybrid Recommender System**\n",
        "   Gabungkan kekuatan Content-Based dan Collaborative Filtering untuk menciptakan model hybrid yang dapat memberikan rekomendasi yang akurat sekaligus beragam.\n",
        "\n",
        "5. **Hyperparameter Tuning**\n",
        "   Lakukan tuning pada hyperparameter model LightFM (seperti jumlah komponen, epoch, atau learning rate) untuk mengoptimalkan performa model CF.\n",
        "\n",
        "---\n",
        "\n",
        "**Referensi**\n",
        "\n",
        "* Dataset:\n",
        "  [Video Game Sales Dataset](https://www.kaggle.com/datasets/rush4ratio/video-game-sales-with-ratings) oleh Rush Kirubi.\n",
        "\n",
        "* Library & Tools:\n",
        "  * Scikit-learn (TF-IDF, cosine similarity)\n",
        "  * LightFM (https://making.lyst.com/lightfm/docs/home.html) untuk Collaborative Filtering\n",
        "  * Pandas, Numpy untuk preprocessing dan analisis data\n",
        "\n",
        "* Literatur dan Panduan:\n",
        "  * Online tutorials dan dokumentasi LightFM\n",
        "\n",
        "**Note**\n",
        "Bila terdapat output yang terlihat pada visualisasi hasil pada file ini, maka bisa akses langsung pada pengerjaan project saya langsung di colab menggunakan link berikut ini:\n",
        "\n",
        "https://colab.research.google.com/drive/11eHsQEC0U-OjWYGsSoQjOV-_MdTRRmlZ?usp=sharing"
      ]
    }
  ],
  "metadata": {
    "colab": {
      "provenance": [],
      "toc_visible": true
    },
    "kernelspec": {
      "display_name": "Python 3",
      "name": "python3"
    },
    "language_info": {
      "name": "python"
    },
    "widgets": {
      "application/vnd.jupyter.widget-state+json": {
        "10f6ec0e0da34756a71ab321c5cb60d4": {
          "model_module": "@jupyter-widgets/controls",
          "model_module_version": "1.5.0",
          "model_name": "LabelModel",
          "state": {
            "_dom_classes": [],
            "_model_module": "@jupyter-widgets/controls",
            "_model_module_version": "1.5.0",
            "_model_name": "LabelModel",
            "_view_count": null,
            "_view_module": "@jupyter-widgets/controls",
            "_view_module_version": "1.5.0",
            "_view_name": "LabelView",
            "description": "",
            "description_tooltip": null,
            "layout": "IPY_MODEL_7eea23c192de41dda13953585f408c3a",
            "placeholder": "​",
            "style": "IPY_MODEL_7a7710c6f62440b3b3cfead4119eceed",
            "value": "📄 Halaman 1 dari total 69"
          }
        },
        "1cc647381126449b8c03ce81830e4dd2": {
          "model_module": "@jupyter-widgets/controls",
          "model_module_version": "1.5.0",
          "model_name": "DropdownModel",
          "state": {
            "_dom_classes": [],
            "_model_module": "@jupyter-widgets/controls",
            "_model_module_version": "1.5.0",
            "_model_name": "DropdownModel",
            "_options_labels": [
              "Action",
              "Adventure",
              "Fighting",
              "Misc",
              "Platform",
              "Puzzle",
              "Racing",
              "Role-Playing",
              "Shooter",
              "Simulation",
              "Sports",
              "Strategy"
            ],
            "_view_count": null,
            "_view_module": "@jupyter-widgets/controls",
            "_view_module_version": "1.5.0",
            "_view_name": "DropdownView",
            "description": "🎮 Genre:",
            "description_tooltip": null,
            "disabled": false,
            "index": 0,
            "layout": "IPY_MODEL_36e2708ed0054a04ad85e311cad7722e",
            "style": "IPY_MODEL_8dffcaa45f8043ceb568f12a39724042"
          }
        },
        "34e5da25627c484d8faa7cb0635ca63c": {
          "model_module": "@jupyter-widgets/output",
          "model_module_version": "1.0.0",
          "model_name": "OutputModel",
          "state": {
            "_dom_classes": [],
            "_model_module": "@jupyter-widgets/output",
            "_model_module_version": "1.0.0",
            "_model_name": "OutputModel",
            "_view_count": null,
            "_view_module": "@jupyter-widgets/output",
            "_view_module_version": "1.0.0",
            "_view_name": "OutputView",
            "layout": "IPY_MODEL_436d50910ab94160967e3b74c64e7e30",
            "msg_id": "",
            "outputs": [
              {
                "data": {
                  "application/vnd.google.colaboratory.intrinsic+json": {
                    "summary": "{\n  \"name\": \"get_available_games_by_genre_paginated(df_cb, df_cf)\",\n  \"rows\": 10,\n  \"fields\": [\n    {\n      \"column\": \"Name\",\n      \"properties\": {\n        \"dtype\": \"string\",\n        \"num_unique_values\": 9,\n        \"samples\": [\n          \"Aliens: Infestation\",\n          \"300: March to Glory\",\n          \"Alan Wake\"\n        ],\n        \"semantic_type\": \"\",\n        \"description\": \"\"\n      }\n    },\n    {\n      \"column\": \"Genre\",\n      \"properties\": {\n        \"dtype\": \"category\",\n        \"num_unique_values\": 1,\n        \"samples\": [\n          \"Action\"\n        ],\n        \"semantic_type\": \"\",\n        \"description\": \"\"\n      }\n    },\n    {\n      \"column\": \"Publisher\",\n      \"properties\": {\n        \"dtype\": \"string\",\n        \"num_unique_values\": 9,\n        \"samples\": [\n          \"Acclaim Entertainment\"\n        ],\n        \"semantic_type\": \"\",\n        \"description\": \"\"\n      }\n    },\n    {\n      \"column\": \"Rating\",\n      \"properties\": {\n        \"dtype\": \"category\",\n        \"num_unique_values\": 3,\n        \"samples\": [\n          \"T\"\n        ],\n        \"semantic_type\": \"\",\n        \"description\": \"\"\n      }\n    }\n  ]\n}",
                    "type": "dataframe"
                  },
                  "text/html": "\n  <div id=\"df-89822482-73cb-4e94-868a-2b27fba636aa\" class=\"colab-df-container\">\n    <div>\n<style scoped>\n    .dataframe tbody tr th:only-of-type {\n        vertical-align: middle;\n    }\n\n    .dataframe tbody tr th {\n        vertical-align: top;\n    }\n\n    .dataframe thead th {\n        text-align: right;\n    }\n</style>\n<table border=\"1\" class=\"dataframe\">\n  <thead>\n    <tr style=\"text-align: right;\">\n      <th></th>\n      <th>Name</th>\n      <th>Genre</th>\n      <th>Publisher</th>\n      <th>Rating</th>\n    </tr>\n  </thead>\n  <tbody>\n    <tr>\n      <th>0</th>\n      <td>007: Quantum of Solace</td>\n      <td>Action</td>\n      <td>Activision</td>\n      <td>T</td>\n    </tr>\n    <tr>\n      <th>1</th>\n      <td>300: March to Glory</td>\n      <td>Action</td>\n      <td>Warner Bros. Interactive Entertainment</td>\n      <td>M</td>\n    </tr>\n    <tr>\n      <th>2</th>\n      <td>Advent Rising</td>\n      <td>Action</td>\n      <td>THQ</td>\n      <td>T</td>\n    </tr>\n    <tr>\n      <th>3</th>\n      <td>Adventure Time: The Secret of the Nameless Kin...</td>\n      <td>Action</td>\n      <td>Little Orbit</td>\n      <td>E10+</td>\n    </tr>\n    <tr>\n      <th>4</th>\n      <td>Aegis of Earth: Protonovus Assault</td>\n      <td>Action</td>\n      <td>PQube</td>\n      <td>T</td>\n    </tr>\n    <tr>\n      <th>5</th>\n      <td>Alan Wake</td>\n      <td>Action</td>\n      <td>Microsoft Game Studios</td>\n      <td>T</td>\n    </tr>\n    <tr>\n      <th>6</th>\n      <td>Alan Wake</td>\n      <td>Action</td>\n      <td>Nordic Games</td>\n      <td>T</td>\n    </tr>\n    <tr>\n      <th>7</th>\n      <td>Alias</td>\n      <td>Action</td>\n      <td>Acclaim Entertainment</td>\n      <td>T</td>\n    </tr>\n    <tr>\n      <th>8</th>\n      <td>Aliens: Infestation</td>\n      <td>Action</td>\n      <td>Sega</td>\n      <td>T</td>\n    </tr>\n    <tr>\n      <th>9</th>\n      <td>Anarchy Reigns</td>\n      <td>Action</td>\n      <td>Sega</td>\n      <td>M</td>\n    </tr>\n  </tbody>\n</table>\n</div>\n    <div class=\"colab-df-buttons\">\n\n  <div class=\"colab-df-container\">\n    <button class=\"colab-df-convert\" onclick=\"convertToInteractive('df-89822482-73cb-4e94-868a-2b27fba636aa')\"\n            title=\"Convert this dataframe to an interactive table.\"\n            style=\"display:none;\">\n\n  <svg xmlns=\"http://www.w3.org/2000/svg\" height=\"24px\" viewBox=\"0 -960 960 960\">\n    <path d=\"M120-120v-720h720v720H120Zm60-500h600v-160H180v160Zm220 220h160v-160H400v160Zm0 220h160v-160H400v160ZM180-400h160v-160H180v160Zm440 0h160v-160H620v160ZM180-180h160v-160H180v160Zm440 0h160v-160H620v160Z\"/>\n  </svg>\n    </button>\n\n  <style>\n    .colab-df-container {\n      display:flex;\n      gap: 12px;\n    }\n\n    .colab-df-convert {\n      background-color: #E8F0FE;\n      border: none;\n      border-radius: 50%;\n      cursor: pointer;\n      display: none;\n      fill: #1967D2;\n      height: 32px;\n      padding: 0 0 0 0;\n      width: 32px;\n    }\n\n    .colab-df-convert:hover {\n      background-color: #E2EBFA;\n      box-shadow: 0px 1px 2px rgba(60, 64, 67, 0.3), 0px 1px 3px 1px rgba(60, 64, 67, 0.15);\n      fill: #174EA6;\n    }\n\n    .colab-df-buttons div {\n      margin-bottom: 4px;\n    }\n\n    [theme=dark] .colab-df-convert {\n      background-color: #3B4455;\n      fill: #D2E3FC;\n    }\n\n    [theme=dark] .colab-df-convert:hover {\n      background-color: #434B5C;\n      box-shadow: 0px 1px 3px 1px rgba(0, 0, 0, 0.15);\n      filter: drop-shadow(0px 1px 2px rgba(0, 0, 0, 0.3));\n      fill: #FFFFFF;\n    }\n  </style>\n\n    <script>\n      const buttonEl =\n        document.querySelector('#df-89822482-73cb-4e94-868a-2b27fba636aa button.colab-df-convert');\n      buttonEl.style.display =\n        google.colab.kernel.accessAllowed ? 'block' : 'none';\n\n      async function convertToInteractive(key) {\n        const element = document.querySelector('#df-89822482-73cb-4e94-868a-2b27fba636aa');\n        const dataTable =\n          await google.colab.kernel.invokeFunction('convertToInteractive',\n                                                    [key], {});\n        if (!dataTable) return;\n\n        const docLinkHtml = 'Like what you see? Visit the ' +\n          '<a target=\"_blank\" href=https://colab.research.google.com/notebooks/data_table.ipynb>data table notebook</a>'\n          + ' to learn more about interactive tables.';\n        element.innerHTML = '';\n        dataTable['output_type'] = 'display_data';\n        await google.colab.output.renderOutput(dataTable, element);\n        const docLink = document.createElement('div');\n        docLink.innerHTML = docLinkHtml;\n        element.appendChild(docLink);\n      }\n    </script>\n  </div>\n\n\n    <div id=\"df-3a26ef6f-6e25-4929-8af7-c8feafc50947\">\n      <button class=\"colab-df-quickchart\" onclick=\"quickchart('df-3a26ef6f-6e25-4929-8af7-c8feafc50947')\"\n                title=\"Suggest charts\"\n                style=\"display:none;\">\n\n<svg xmlns=\"http://www.w3.org/2000/svg\" height=\"24px\"viewBox=\"0 0 24 24\"\n     width=\"24px\">\n    <g>\n        <path d=\"M19 3H5c-1.1 0-2 .9-2 2v14c0 1.1.9 2 2 2h14c1.1 0 2-.9 2-2V5c0-1.1-.9-2-2-2zM9 17H7v-7h2v7zm4 0h-2V7h2v10zm4 0h-2v-4h2v4z\"/>\n    </g>\n</svg>\n      </button>\n\n<style>\n  .colab-df-quickchart {\n      --bg-color: #E8F0FE;\n      --fill-color: #1967D2;\n      --hover-bg-color: #E2EBFA;\n      --hover-fill-color: #174EA6;\n      --disabled-fill-color: #AAA;\n      --disabled-bg-color: #DDD;\n  }\n\n  [theme=dark] .colab-df-quickchart {\n      --bg-color: #3B4455;\n      --fill-color: #D2E3FC;\n      --hover-bg-color: #434B5C;\n      --hover-fill-color: #FFFFFF;\n      --disabled-bg-color: #3B4455;\n      --disabled-fill-color: #666;\n  }\n\n  .colab-df-quickchart {\n    background-color: var(--bg-color);\n    border: none;\n    border-radius: 50%;\n    cursor: pointer;\n    display: none;\n    fill: var(--fill-color);\n    height: 32px;\n    padding: 0;\n    width: 32px;\n  }\n\n  .colab-df-quickchart:hover {\n    background-color: var(--hover-bg-color);\n    box-shadow: 0 1px 2px rgba(60, 64, 67, 0.3), 0 1px 3px 1px rgba(60, 64, 67, 0.15);\n    fill: var(--button-hover-fill-color);\n  }\n\n  .colab-df-quickchart-complete:disabled,\n  .colab-df-quickchart-complete:disabled:hover {\n    background-color: var(--disabled-bg-color);\n    fill: var(--disabled-fill-color);\n    box-shadow: none;\n  }\n\n  .colab-df-spinner {\n    border: 2px solid var(--fill-color);\n    border-color: transparent;\n    border-bottom-color: var(--fill-color);\n    animation:\n      spin 1s steps(1) infinite;\n  }\n\n  @keyframes spin {\n    0% {\n      border-color: transparent;\n      border-bottom-color: var(--fill-color);\n      border-left-color: var(--fill-color);\n    }\n    20% {\n      border-color: transparent;\n      border-left-color: var(--fill-color);\n      border-top-color: var(--fill-color);\n    }\n    30% {\n      border-color: transparent;\n      border-left-color: var(--fill-color);\n      border-top-color: var(--fill-color);\n      border-right-color: var(--fill-color);\n    }\n    40% {\n      border-color: transparent;\n      border-right-color: var(--fill-color);\n      border-top-color: var(--fill-color);\n    }\n    60% {\n      border-color: transparent;\n      border-right-color: var(--fill-color);\n    }\n    80% {\n      border-color: transparent;\n      border-right-color: var(--fill-color);\n      border-bottom-color: var(--fill-color);\n    }\n    90% {\n      border-color: transparent;\n      border-bottom-color: var(--fill-color);\n    }\n  }\n</style>\n\n      <script>\n        async function quickchart(key) {\n          const quickchartButtonEl =\n            document.querySelector('#' + key + ' button');\n          quickchartButtonEl.disabled = true;  // To prevent multiple clicks.\n          quickchartButtonEl.classList.add('colab-df-spinner');\n          try {\n            const charts = await google.colab.kernel.invokeFunction(\n                'suggestCharts', [key], {});\n          } catch (error) {\n            console.error('Error during call to suggestCharts:', error);\n          }\n          quickchartButtonEl.classList.remove('colab-df-spinner');\n          quickchartButtonEl.classList.add('colab-df-quickchart-complete');\n        }\n        (() => {\n          let quickchartButtonEl =\n            document.querySelector('#df-3a26ef6f-6e25-4929-8af7-c8feafc50947 button');\n          quickchartButtonEl.style.display =\n            google.colab.kernel.accessAllowed ? 'block' : 'none';\n        })();\n      </script>\n    </div>\n\n    </div>\n  </div>\n",
                  "text/plain": "                                                Name   Genre  \\\n0                             007: Quantum of Solace  Action   \n1                                300: March to Glory  Action   \n2                                      Advent Rising  Action   \n3  Adventure Time: The Secret of the Nameless Kin...  Action   \n4                 Aegis of Earth: Protonovus Assault  Action   \n5                                          Alan Wake  Action   \n6                                          Alan Wake  Action   \n7                                              Alias  Action   \n8                                Aliens: Infestation  Action   \n9                                     Anarchy Reigns  Action   \n\n                                Publisher Rating  \n0                              Activision      T  \n1  Warner Bros. Interactive Entertainment      M  \n2                                     THQ      T  \n3                            Little Orbit   E10+  \n4                                   PQube      T  \n5                  Microsoft Game Studios      T  \n6                            Nordic Games      T  \n7                   Acclaim Entertainment      T  \n8                                    Sega      T  \n9                                    Sega      M  "
                },
                "metadata": {},
                "output_type": "display_data"
              }
            ]
          }
        },
        "36e2708ed0054a04ad85e311cad7722e": {
          "model_module": "@jupyter-widgets/base",
          "model_module_version": "1.2.0",
          "model_name": "LayoutModel",
          "state": {
            "_model_module": "@jupyter-widgets/base",
            "_model_module_version": "1.2.0",
            "_model_name": "LayoutModel",
            "_view_count": null,
            "_view_module": "@jupyter-widgets/base",
            "_view_module_version": "1.2.0",
            "_view_name": "LayoutView",
            "align_content": null,
            "align_items": null,
            "align_self": null,
            "border": null,
            "bottom": null,
            "display": null,
            "flex": null,
            "flex_flow": null,
            "grid_area": null,
            "grid_auto_columns": null,
            "grid_auto_flow": null,
            "grid_auto_rows": null,
            "grid_column": null,
            "grid_gap": null,
            "grid_row": null,
            "grid_template_areas": null,
            "grid_template_columns": null,
            "grid_template_rows": null,
            "height": null,
            "justify_content": null,
            "justify_items": null,
            "left": null,
            "margin": null,
            "max_height": null,
            "max_width": null,
            "min_height": null,
            "min_width": null,
            "object_fit": null,
            "object_position": null,
            "order": null,
            "overflow": null,
            "overflow_x": null,
            "overflow_y": null,
            "padding": null,
            "right": null,
            "top": null,
            "visibility": null,
            "width": "50%"
          }
        },
        "3fe939c05b7942938a6049f9903a7979": {
          "model_module": "@jupyter-widgets/base",
          "model_module_version": "1.2.0",
          "model_name": "LayoutModel",
          "state": {
            "_model_module": "@jupyter-widgets/base",
            "_model_module_version": "1.2.0",
            "_model_name": "LayoutModel",
            "_view_count": null,
            "_view_module": "@jupyter-widgets/base",
            "_view_module_version": "1.2.0",
            "_view_name": "LayoutView",
            "align_content": null,
            "align_items": null,
            "align_self": null,
            "border": null,
            "bottom": null,
            "display": null,
            "flex": null,
            "flex_flow": null,
            "grid_area": null,
            "grid_auto_columns": null,
            "grid_auto_flow": null,
            "grid_auto_rows": null,
            "grid_column": null,
            "grid_gap": null,
            "grid_row": null,
            "grid_template_areas": null,
            "grid_template_columns": null,
            "grid_template_rows": null,
            "height": null,
            "justify_content": null,
            "justify_items": null,
            "left": null,
            "margin": null,
            "max_height": null,
            "max_width": null,
            "min_height": null,
            "min_width": null,
            "object_fit": null,
            "object_position": null,
            "order": null,
            "overflow": null,
            "overflow_x": null,
            "overflow_y": null,
            "padding": null,
            "right": null,
            "top": null,
            "visibility": null,
            "width": null
          }
        },
        "436d50910ab94160967e3b74c64e7e30": {
          "model_module": "@jupyter-widgets/base",
          "model_module_version": "1.2.0",
          "model_name": "LayoutModel",
          "state": {
            "_model_module": "@jupyter-widgets/base",
            "_model_module_version": "1.2.0",
            "_model_name": "LayoutModel",
            "_view_count": null,
            "_view_module": "@jupyter-widgets/base",
            "_view_module_version": "1.2.0",
            "_view_name": "LayoutView",
            "align_content": null,
            "align_items": null,
            "align_self": null,
            "border": null,
            "bottom": null,
            "display": null,
            "flex": null,
            "flex_flow": null,
            "grid_area": null,
            "grid_auto_columns": null,
            "grid_auto_flow": null,
            "grid_auto_rows": null,
            "grid_column": null,
            "grid_gap": null,
            "grid_row": null,
            "grid_template_areas": null,
            "grid_template_columns": null,
            "grid_template_rows": null,
            "height": null,
            "justify_content": null,
            "justify_items": null,
            "left": null,
            "margin": null,
            "max_height": null,
            "max_width": null,
            "min_height": null,
            "min_width": null,
            "object_fit": null,
            "object_position": null,
            "order": null,
            "overflow": null,
            "overflow_x": null,
            "overflow_y": null,
            "padding": null,
            "right": null,
            "top": null,
            "visibility": null,
            "width": null
          }
        },
        "5814fbe8218d4aa1b3395be8c0103dd4": {
          "model_module": "@jupyter-widgets/base",
          "model_module_version": "1.2.0",
          "model_name": "LayoutModel",
          "state": {
            "_model_module": "@jupyter-widgets/base",
            "_model_module_version": "1.2.0",
            "_model_name": "LayoutModel",
            "_view_count": null,
            "_view_module": "@jupyter-widgets/base",
            "_view_module_version": "1.2.0",
            "_view_name": "LayoutView",
            "align_content": null,
            "align_items": null,
            "align_self": null,
            "border": null,
            "bottom": null,
            "display": null,
            "flex": null,
            "flex_flow": null,
            "grid_area": null,
            "grid_auto_columns": null,
            "grid_auto_flow": null,
            "grid_auto_rows": null,
            "grid_column": null,
            "grid_gap": null,
            "grid_row": null,
            "grid_template_areas": null,
            "grid_template_columns": null,
            "grid_template_rows": null,
            "height": null,
            "justify_content": null,
            "justify_items": null,
            "left": null,
            "margin": null,
            "max_height": null,
            "max_width": null,
            "min_height": null,
            "min_width": null,
            "object_fit": null,
            "object_position": null,
            "order": null,
            "overflow": null,
            "overflow_x": null,
            "overflow_y": null,
            "padding": null,
            "right": null,
            "top": null,
            "visibility": null,
            "width": null
          }
        },
        "596f32e9a1e841f68448665fdf27e15e": {
          "model_module": "@jupyter-widgets/controls",
          "model_module_version": "1.5.0",
          "model_name": "HBoxModel",
          "state": {
            "_dom_classes": [],
            "_model_module": "@jupyter-widgets/controls",
            "_model_module_version": "1.5.0",
            "_model_name": "HBoxModel",
            "_view_count": null,
            "_view_module": "@jupyter-widgets/controls",
            "_view_module_version": "1.5.0",
            "_view_name": "HBoxView",
            "box_style": "",
            "children": [
              "IPY_MODEL_66523d6591ef49d984f51b7968cb4447",
              "IPY_MODEL_71a778307d264f3f8aa697c8b423897c",
              "IPY_MODEL_10f6ec0e0da34756a71ab321c5cb60d4"
            ],
            "layout": "IPY_MODEL_5814fbe8218d4aa1b3395be8c0103dd4"
          }
        },
        "66523d6591ef49d984f51b7968cb4447": {
          "model_module": "@jupyter-widgets/controls",
          "model_module_version": "1.5.0",
          "model_name": "ButtonModel",
          "state": {
            "_dom_classes": [],
            "_model_module": "@jupyter-widgets/controls",
            "_model_module_version": "1.5.0",
            "_model_name": "ButtonModel",
            "_view_count": null,
            "_view_module": "@jupyter-widgets/controls",
            "_view_module_version": "1.5.0",
            "_view_name": "ButtonView",
            "button_style": "",
            "description": "◀️ Previous",
            "disabled": false,
            "icon": "",
            "layout": "IPY_MODEL_c7d1e8f7c82e4bd7ac5843815d25b4f9",
            "style": "IPY_MODEL_7652384c3c414ee08445aec5f77bfefd",
            "tooltip": ""
          }
        },
        "71a778307d264f3f8aa697c8b423897c": {
          "model_module": "@jupyter-widgets/controls",
          "model_module_version": "1.5.0",
          "model_name": "ButtonModel",
          "state": {
            "_dom_classes": [],
            "_model_module": "@jupyter-widgets/controls",
            "_model_module_version": "1.5.0",
            "_model_name": "ButtonModel",
            "_view_count": null,
            "_view_module": "@jupyter-widgets/controls",
            "_view_module_version": "1.5.0",
            "_view_name": "ButtonView",
            "button_style": "",
            "description": "Next ▶️",
            "disabled": false,
            "icon": "",
            "layout": "IPY_MODEL_3fe939c05b7942938a6049f9903a7979",
            "style": "IPY_MODEL_c038a6efd40d4f1698cc8fda33393181",
            "tooltip": ""
          }
        },
        "7652384c3c414ee08445aec5f77bfefd": {
          "model_module": "@jupyter-widgets/controls",
          "model_module_version": "1.5.0",
          "model_name": "ButtonStyleModel",
          "state": {
            "_model_module": "@jupyter-widgets/controls",
            "_model_module_version": "1.5.0",
            "_model_name": "ButtonStyleModel",
            "_view_count": null,
            "_view_module": "@jupyter-widgets/base",
            "_view_module_version": "1.2.0",
            "_view_name": "StyleView",
            "button_color": null,
            "font_weight": ""
          }
        },
        "7a7710c6f62440b3b3cfead4119eceed": {
          "model_module": "@jupyter-widgets/controls",
          "model_module_version": "1.5.0",
          "model_name": "DescriptionStyleModel",
          "state": {
            "_model_module": "@jupyter-widgets/controls",
            "_model_module_version": "1.5.0",
            "_model_name": "DescriptionStyleModel",
            "_view_count": null,
            "_view_module": "@jupyter-widgets/base",
            "_view_module_version": "1.2.0",
            "_view_name": "StyleView",
            "description_width": ""
          }
        },
        "7eea23c192de41dda13953585f408c3a": {
          "model_module": "@jupyter-widgets/base",
          "model_module_version": "1.2.0",
          "model_name": "LayoutModel",
          "state": {
            "_model_module": "@jupyter-widgets/base",
            "_model_module_version": "1.2.0",
            "_model_name": "LayoutModel",
            "_view_count": null,
            "_view_module": "@jupyter-widgets/base",
            "_view_module_version": "1.2.0",
            "_view_name": "LayoutView",
            "align_content": null,
            "align_items": null,
            "align_self": null,
            "border": null,
            "bottom": null,
            "display": null,
            "flex": null,
            "flex_flow": null,
            "grid_area": null,
            "grid_auto_columns": null,
            "grid_auto_flow": null,
            "grid_auto_rows": null,
            "grid_column": null,
            "grid_gap": null,
            "grid_row": null,
            "grid_template_areas": null,
            "grid_template_columns": null,
            "grid_template_rows": null,
            "height": null,
            "justify_content": null,
            "justify_items": null,
            "left": null,
            "margin": null,
            "max_height": null,
            "max_width": null,
            "min_height": null,
            "min_width": null,
            "object_fit": null,
            "object_position": null,
            "order": null,
            "overflow": null,
            "overflow_x": null,
            "overflow_y": null,
            "padding": null,
            "right": null,
            "top": null,
            "visibility": null,
            "width": null
          }
        },
        "8dffcaa45f8043ceb568f12a39724042": {
          "model_module": "@jupyter-widgets/controls",
          "model_module_version": "1.5.0",
          "model_name": "DescriptionStyleModel",
          "state": {
            "_model_module": "@jupyter-widgets/controls",
            "_model_module_version": "1.5.0",
            "_model_name": "DescriptionStyleModel",
            "_view_count": null,
            "_view_module": "@jupyter-widgets/base",
            "_view_module_version": "1.2.0",
            "_view_name": "StyleView",
            "description_width": ""
          }
        },
        "c038a6efd40d4f1698cc8fda33393181": {
          "model_module": "@jupyter-widgets/controls",
          "model_module_version": "1.5.0",
          "model_name": "ButtonStyleModel",
          "state": {
            "_model_module": "@jupyter-widgets/controls",
            "_model_module_version": "1.5.0",
            "_model_name": "ButtonStyleModel",
            "_view_count": null,
            "_view_module": "@jupyter-widgets/base",
            "_view_module_version": "1.2.0",
            "_view_name": "StyleView",
            "button_color": null,
            "font_weight": ""
          }
        },
        "c7d1e8f7c82e4bd7ac5843815d25b4f9": {
          "model_module": "@jupyter-widgets/base",
          "model_module_version": "1.2.0",
          "model_name": "LayoutModel",
          "state": {
            "_model_module": "@jupyter-widgets/base",
            "_model_module_version": "1.2.0",
            "_model_name": "LayoutModel",
            "_view_count": null,
            "_view_module": "@jupyter-widgets/base",
            "_view_module_version": "1.2.0",
            "_view_name": "LayoutView",
            "align_content": null,
            "align_items": null,
            "align_self": null,
            "border": null,
            "bottom": null,
            "display": null,
            "flex": null,
            "flex_flow": null,
            "grid_area": null,
            "grid_auto_columns": null,
            "grid_auto_flow": null,
            "grid_auto_rows": null,
            "grid_column": null,
            "grid_gap": null,
            "grid_row": null,
            "grid_template_areas": null,
            "grid_template_columns": null,
            "grid_template_rows": null,
            "height": null,
            "justify_content": null,
            "justify_items": null,
            "left": null,
            "margin": null,
            "max_height": null,
            "max_width": null,
            "min_height": null,
            "min_width": null,
            "object_fit": null,
            "object_position": null,
            "order": null,
            "overflow": null,
            "overflow_x": null,
            "overflow_y": null,
            "padding": null,
            "right": null,
            "top": null,
            "visibility": null,
            "width": null
          }
        }
      }
    }
  },
  "nbformat": 4,
  "nbformat_minor": 0
}
